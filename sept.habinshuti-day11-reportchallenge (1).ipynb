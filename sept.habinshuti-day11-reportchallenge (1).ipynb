{
 "cells": [
  {
   "cell_type": "markdown",
   "id": "946dcae8",
   "metadata": {},
   "source": [
    "# Practical_6: Numpy"
   ]
  },
  {
   "cell_type": "markdown",
   "id": "2bef5f23-431f-43d7-bebc-f4fe204ddb29",
   "metadata": {},
   "source": [
    "---\n",
    "\n",
    "### Exercise 1:\n",
    "Create a NumPy array of integers from 1 to 10.\n",
    "\n",
    "```python\n",
    "# Exercise 1\n",
    "```\n"
   ]
  },
  {
   "cell_type": "code",
   "execution_count": 6,
   "id": "541b4d80-2cdc-4d5a-8134-e227ae43ec86",
   "metadata": {},
   "outputs": [],
   "source": [
    "import numpy as pd\n",
    "import numpy as pd"
   ]
  },
  {
   "cell_type": "code",
   "execution_count": 12,
   "id": "21048ba0-9ac3-40b6-b85d-2ee922f5c7cf",
   "metadata": {},
   "outputs": [
    {
     "name": "stdout",
     "output_type": "stream",
     "text": [
      "[ 1.  2.  3.  4.  5.  6.  7.  8.  9. 10.]\n"
     ]
    }
   ],
   "source": [
    "a=pd.linspace(1,10,10)\n",
    "print(a)\n",
    "\n",
    "\n"
   ]
  },
  {
   "cell_type": "markdown",
   "id": "1a01eb1e-7cb4-4571-a33c-8554fcf52118",
   "metadata": {},
   "source": [
    "b\n",
    "---\n",
    "\n",
    "### Exercise 2:\n",
    "Create a 3x3 NumPy array filled with zeros.\n",
    "\n",
    "```python\n",
    "# Exercise 2\n",
    "```"
   ]
  },
  {
   "cell_type": "code",
   "execution_count": 19,
   "id": "a68e8c49-ed75-4881-b59d-e2b23ab1802b",
   "metadata": {},
   "outputs": [
    {
     "name": "stdout",
     "output_type": "stream",
     "text": [
      "[[0. 0. 0.]\n",
      " [0. 0. 0.]\n",
      " [0. 0. 0.]]\n"
     ]
    }
   ],
   "source": [
    "a = pd.zeros((3,3))\n",
    "print(a)"
   ]
  },
  {
   "cell_type": "markdown",
   "id": "fa072508-6bcc-477f-ac77-5fd8b06c9604",
   "metadata": {},
   "source": [
    "\n",
    "---\n",
    "\n",
    "### Exercise 3:\n",
    "Create a NumPy array of 10 evenly spaced numbers between 0 and 5.\n",
    "\n",
    "```python\n",
    "# Exercise 3\n",
    "```\n"
   ]
  },
  {
   "cell_type": "code",
   "execution_count": 40,
   "id": "794e9fbf-f440-4d2d-80d6-5e15d23ea16a",
   "metadata": {},
   "outputs": [
    {
     "name": "stdout",
     "output_type": "stream",
     "text": [
      "[1.  1.4 1.8 2.2 2.6 3.  3.4 3.8 4.2 4.6]\n"
     ]
    }
   ],
   "source": [
    "a=pd.linspace(1,5,10,endpoint=False)\n",
    "print(a)"
   ]
  },
  {
   "cell_type": "markdown",
   "id": "1cbe13af-b143-4ac2-b5d2-4ab46a3cea62",
   "metadata": {},
   "source": [
    "\n",
    "---\n",
    "\n",
    "### Exercise 4:\n",
    "Create a 5x5 identity matrix using NumPy.\n",
    "\n",
    "```python\n",
    "# Exercise 4\n",
    "```"
   ]
  },
  {
   "cell_type": "code",
   "execution_count": 17,
   "id": "29d20f2a-3123-4997-876e-924aa147a84a",
   "metadata": {},
   "outputs": [
    {
     "name": "stdout",
     "output_type": "stream",
     "text": [
      "[[1. 0. 0. 0. 0.]\n",
      " [0. 1. 0. 0. 0.]\n",
      " [0. 0. 1. 0. 0.]\n",
      " [0. 0. 0. 1. 0.]\n",
      " [0. 0. 0. 0. 1.]]\n"
     ]
    }
   ],
   "source": [
    "\n",
    "d = pd.eye(5)         \n",
    "print(d)             \n",
    "    "
   ]
  },
  {
   "cell_type": "markdown",
   "id": "84cdd63b-d9a9-4712-abd3-e360b132e757",
   "metadata": {},
   "source": [
    "### Exercise 5:\n",
    "Create a 4x4 matrix with random values between 0 and 1.\n",
    "\n",
    "```python\n",
    "# Exercise 5\n",
    "```\n"
   ]
  },
  {
   "cell_type": "code",
   "execution_count": 42,
   "id": "469d0782-8f5b-4183-a753-784f62370744",
   "metadata": {},
   "outputs": [
    {
     "name": "stdout",
     "output_type": "stream",
     "text": [
      "[[0.23570772 0.36289702 0.24502784 0.81324274]\n",
      " [0.59993608 0.38938455 0.49517025 0.69347223]\n",
      " [0.46012537 0.45933493 0.53578611 0.05424111]\n",
      " [0.84449706 0.07427624 0.06659208 0.29255448]]\n"
     ]
    }
   ],
   "source": [
    "d = pd.random.rand(4,4)     \n",
    "print(d)             \n",
    "    "
   ]
  },
  {
   "cell_type": "markdown",
   "id": "575a2d33-a20e-4f7c-b37b-846f0b3b8813",
   "metadata": {},
   "source": [
    "\n",
    "\n",
    "---\n",
    "\n",
    "### Exercise 6:\n",
    "Find the shape of a NumPy array.\n",
    "\n",
    "```python\n",
    "# Exercise 6\n",
    "```\n"
   ]
  },
  {
   "cell_type": "code",
   "execution_count": 31,
   "id": "930301ed-130d-414d-af22-11b8adb75dc8",
   "metadata": {},
   "outputs": [
    {
     "data": {
      "text/plain": [
       "(4, 4)"
      ]
     },
     "execution_count": 31,
     "metadata": {},
     "output_type": "execute_result"
    }
   ],
   "source": [
    "d.shape"
   ]
  },
  {
   "cell_type": "markdown",
   "id": "7d894f9d-f10e-49af-b0ae-98d099a588f0",
   "metadata": {},
   "source": [
    "\n",
    "### Exercise 7:\n",
    "Reshape a 1D NumPy array of 16 elements into a 4x4 matrix.\n",
    "\n",
    "```python\n",
    "# Exercise 7\n",
    "```\n"
   ]
  },
  {
   "cell_type": "code",
   "execution_count": 44,
   "id": "f8d21378-dbdb-4c65-95ec-3f2002e97638",
   "metadata": {},
   "outputs": [
    {
     "name": "stdout",
     "output_type": "stream",
     "text": [
      "None\n",
      "[0.77132064 0.02075195 0.63364823 0.74880388 0.49850701 0.22479665\n",
      " 0.19806286 0.76053071 0.16911084 0.08833981 0.68535982 0.95339335\n",
      " 0.00394827 0.51219226 0.81262096 0.61252607]\n"
     ]
    }
   ],
   "source": [
    "d = pd.random.random((16))  \n",
    "q = pd.random.seed((10)) \n",
    "print(q) \n",
    "print(d)"
   ]
  },
  {
   "cell_type": "code",
   "execution_count": 45,
   "id": "86625227-8a87-4535-bc6a-d76a3f07f73c",
   "metadata": {},
   "outputs": [
    {
     "name": "stdout",
     "output_type": "stream",
     "text": [
      "None\n",
      "[0.77132064 0.02075195 0.63364823 0.74880388 0.49850701 0.22479665\n",
      " 0.19806286 0.76053071 0.16911084 0.08833981 0.68535982 0.95339335\n",
      " 0.00394827 0.51219226 0.81262096 0.61252607]\n"
     ]
    }
   ],
   "source": [
    "d = pd.random.random((16))  \n",
    "q = pd.random.seed((0)) \n",
    "print(q) \n",
    "print(d)"
   ]
  },
  {
   "cell_type": "markdown",
   "id": "dfb3e281-beeb-4cbc-96f1-2752a36a7214",
   "metadata": {},
   "source": [
    "### Exercise 7:\n",
    "Reshape a 1D NumPy array of 16 elements into a 4x4 matrix.\n",
    "\n",
    "```python\n",
    "# Exercise 7\n",
    "```\n"
   ]
  },
  {
   "cell_type": "code",
   "execution_count": 52,
   "id": "eb599f79-7ab7-44ab-a29f-da46b00c60cc",
   "metadata": {},
   "outputs": [
    {
     "data": {
      "text/plain": [
       "array([[ 0,  1,  2,  3],\n",
       "       [ 4,  5,  6,  7],\n",
       "       [ 8,  9, 10, 11],\n",
       "       [12, 13, 14, 15]])"
      ]
     },
     "execution_count": 52,
     "metadata": {},
     "output_type": "execute_result"
    }
   ],
   "source": [
    "d = pd.arange(16) \n",
    "d\n",
    "d.reshape((4,4))"
   ]
  },
  {
   "cell_type": "markdown",
   "id": "62ee5f5f-3222-4143-9db6-ff085f4b88c7",
   "metadata": {},
   "source": [
    "### Exercise 8:\n",
    "Find the data type of the elements in a NumPy array.\n",
    "\n",
    "```python\n",
    "# Exercise 8\n",
    "```\n"
   ]
  },
  {
   "cell_type": "code",
   "execution_count": 53,
   "id": "c98a2cb0-483a-477b-8660-c29849a5201f",
   "metadata": {},
   "outputs": [
    {
     "data": {
      "text/plain": [
       "dtype('int32')"
      ]
     },
     "execution_count": 53,
     "metadata": {},
     "output_type": "execute_result"
    }
   ],
   "source": [
    "d.dtype"
   ]
  },
  {
   "cell_type": "markdown",
   "id": "338eb906-3e3c-48c3-ae0c-a289800152b0",
   "metadata": {},
   "source": [
    "### Exercise 9:\n",
    "Create a NumPy array of integers from 1 to 100 and find all even numbers in the array.\n",
    "\n",
    "```python\n",
    "# Exercise 9\n",
    "```\n",
    "\n",
    "---\n",
    "\n",
    "### Exercise 10:\n",
    "Generate a 6x6 matrix of random integers between 10 and 50.\n",
    "\n",
    "```python\n",
    "# Exercise 10\n",
    "```\n"
   ]
  },
  {
   "cell_type": "code",
   "execution_count": 66,
   "id": "ece1adff-9e68-483f-b862-68a7fdc506c7",
   "metadata": {},
   "outputs": [
    {
     "data": {
      "text/plain": [
       "array([  2,   4,   6,   8,  10,  12,  14,  16,  18,  20,  22,  24,  26,\n",
       "        28,  30,  32,  34,  36,  38,  40,  42,  44,  46,  48,  50,  52,\n",
       "        54,  56,  58,  60,  62,  64,  66,  68,  70,  72,  74,  76,  78,\n",
       "        80,  82,  84,  86,  88,  90,  92,  94,  96,  98, 100])"
      ]
     },
     "execution_count": 66,
     "metadata": {},
     "output_type": "execute_result"
    }
   ],
   "source": [
    "\n",
    "q=pd.arange(2,101,2)\n",
    "q\n",
    "\n",
    "\n",
    "#A=[x for x in pd.arange(1,101) if x%2==0]\n"
   ]
  },
  {
   "cell_type": "code",
   "execution_count": 77,
   "id": "da80027b-94f2-44f9-8df0-2d3a85874eb2",
   "metadata": {},
   "outputs": [
    {
     "data": {
      "text/plain": [
       "array([[22, 13, 29, 21, 11, 16],\n",
       "       [23, 40, 45, 10, 37, 12],\n",
       "       [35, 44, 21, 14, 43, 24],\n",
       "       [41, 38, 32, 22, 23, 43],\n",
       "       [23, 16, 15, 46, 35, 14],\n",
       "       [30, 24, 25, 39, 23, 27]])"
      ]
     },
     "execution_count": 77,
     "metadata": {},
     "output_type": "execute_result"
    }
   ],
   "source": [
    "# 10\n",
    "w=pd.random.randint(10,50,(6,6))\n",
    "w"
   ]
  },
  {
   "cell_type": "code",
   "execution_count": 81,
   "id": "9eb5dcf9-5dd0-4af0-ab2e-2289da4da4c6",
   "metadata": {},
   "outputs": [
    {
     "data": {
      "text/plain": [
       "array([[34, 37, 19, 18],\n",
       "       [46, 41, 22, 39],\n",
       "       [14, 12, 28, 44]])"
      ]
     },
     "execution_count": 81,
     "metadata": {},
     "output_type": "execute_result"
    }
   ],
   "source": []
  },
  {
   "cell_type": "markdown",
   "id": "7af613be-8d2e-488b-90d2-dee6be6422d0",
   "metadata": {},
   "source": [
    "---\n",
    "\n",
    "### Exercise 11:\n",
    "Slice a 2D NumPy array to extract a submatrix.\n",
    "\n",
    "```python\n",
    "# Exercise 11\n",
    "```"
   ]
  },
  {
   "cell_type": "code",
   "execution_count": 82,
   "id": "fe532be6-f332-4eb1-95b5-2e24a1bd4309",
   "metadata": {},
   "outputs": [
    {
     "data": {
      "text/plain": [
       "array([[33, 15, 33, 49],\n",
       "       [21, 35, 40, 25],\n",
       "       [33, 48, 46, 29]])"
      ]
     },
     "execution_count": 82,
     "metadata": {},
     "output_type": "execute_result"
    }
   ],
   "source": [
    "w=pd.random.randint(10,50,(4,4))\n",
    "w[:3:]"
   ]
  },
  {
   "cell_type": "markdown",
   "id": "8367a540-f427-4301-8f0a-88c5cc0d3a50",
   "metadata": {},
   "source": [
    "---\n",
    "\n",
    "### Exercise 12:\n",
    "Calculate the sum of all elements in a NumPy array.\n",
    "\n",
    "```python\n",
    "# Exercise 12\n",
    "```"
   ]
  },
  {
   "cell_type": "code",
   "execution_count": 83,
   "id": "2bbce3c1-61fc-4234-857f-e856f62cfaf7",
   "metadata": {},
   "outputs": [
    {
     "name": "stdout",
     "output_type": "stream",
     "text": [
      "120\n"
     ]
    }
   ],
   "source": [
    "d = pd.arange(16) \n",
    "print(pd.sum(d)) "
   ]
  },
  {
   "cell_type": "markdown",
   "id": "b116c37d-a4c8-4bb1-81d2-65e65b6532f9",
   "metadata": {},
   "source": [
    "---\n",
    "\n",
    "### Exercise 13:\n",
    "Calculate the mean, median, and standard deviation of a NumPy array.\n",
    "\n",
    "```python\n",
    "# Exercise 13\n",
    "```"
   ]
  },
  {
   "cell_type": "code",
   "execution_count": 85,
   "id": "3109ff9d-c021-4a7a-a3fa-13a24ac287c7",
   "metadata": {},
   "outputs": [
    {
     "data": {
      "text/plain": [
       "4.6097722286464435"
      ]
     },
     "execution_count": 85,
     "metadata": {},
     "output_type": "execute_result"
    }
   ],
   "source": [
    "pd.mean(d)\n",
    "pd.median(d)\n",
    "pd.std(d)"
   ]
  },
  {
   "cell_type": "markdown",
   "id": "0bcef1ae-19bf-4823-8d6f-aabd4d612dc9",
   "metadata": {},
   "source": [
    "---\n",
    "\n",
    "### Exercise 14:\n",
    "Find the maximum and minimum values in a NumPy array.\n",
    "\n",
    "```python\n",
    "# Exercise 14\n",
    "```\n",
    "\n",
    "---"
   ]
  },
  {
   "cell_type": "code",
   "execution_count": 89,
   "id": "2a615d6a-f31a-4205-8d98-91f4fe681e53",
   "metadata": {},
   "outputs": [
    {
     "data": {
      "text/plain": [
       "15"
      ]
     },
     "execution_count": 89,
     "metadata": {},
     "output_type": "execute_result"
    }
   ],
   "source": [
    "pd.max(d)\n"
   ]
  },
  {
   "cell_type": "code",
   "execution_count": 90,
   "id": "159ce46a-35a8-45a2-a1f6-4a8efe41a086",
   "metadata": {},
   "outputs": [
    {
     "data": {
      "text/plain": [
       "0"
      ]
     },
     "execution_count": 90,
     "metadata": {},
     "output_type": "execute_result"
    }
   ],
   "source": [
    "pd.min(d)"
   ]
  },
  {
   "cell_type": "markdown",
   "id": "69e35f8e-34bf-499d-a0a2-9340c475c3f4",
   "metadata": {},
   "source": [
    "### Exercise 15:\n",
    "Create a NumPy array of 20 random integers and find the index of the maximum value.\n",
    "\n",
    "```python\n",
    "# Exercise 15\n",
    "```\n",
    "\n",
    "---"
   ]
  },
  {
   "cell_type": "code",
   "execution_count": 102,
   "id": "39065fd6-9bfc-43ae-b732-6ac6fb7f3282",
   "metadata": {},
   "outputs": [
    {
     "data": {
      "text/plain": [
       "14"
      ]
     },
     "execution_count": 102,
     "metadata": {},
     "output_type": "execute_result"
    }
   ],
   "source": [
    "p=pd.random.randint(0,100,20)\n",
    "pd.argmax(p)"
   ]
  },
  {
   "cell_type": "markdown",
   "id": "e86c9ba5-20d6-464c-9592-c9f138fabfcd",
   "metadata": {},
   "source": [
    "### Exercise 16:\n",
    "Create a NumPy array and reverse its elements.\n",
    "\n",
    "```python\n",
    "# Exercise 16\n",
    "```"
   ]
  },
  {
   "cell_type": "code",
   "execution_count": 111,
   "id": "60a32f33-c984-4fe1-9279-3e02c2248dd2",
   "metadata": {},
   "outputs": [
    {
     "name": "stdout",
     "output_type": "stream",
     "text": [
      "[ 8 63 16  8 43 48 10 68 98 73 42 36 15 28  6 91  1 19 11  5]\n",
      "ooooooooooooooooooooooooooooo\n",
      "[ 5 11 19  1 91  6 28 15 36 42 73 98 68 10 48 43  8 16 63  8]\n"
     ]
    }
   ],
   "source": [
    "p=pd.random.randint(0,100,20)\n",
    "print(p)\n",
    "print(\"ooooooooooooooooooooooooooooo\")\n",
    "q=p[::-1]\n",
    "print(q)\n"
   ]
  },
  {
   "cell_type": "code",
   "execution_count": null,
   "id": "56bc095f-79ed-4ca1-b0e9-ea8c3c1063c5",
   "metadata": {},
   "outputs": [],
   "source": []
  },
  {
   "cell_type": "markdown",
   "id": "ec9c7b16-bf14-4f84-ac5a-e45d1d416f46",
   "metadata": {},
   "source": [
    "---"
   ]
  },
  {
   "cell_type": "markdown",
   "id": "cb2c32cd-df6f-4491-b58b-85a4795b3544",
   "metadata": {},
   "source": [
    "### Exercise 17:\n",
    "Create a 3x3 matrix and multiply it element-wise by another 3x3 matrix.\n",
    "\n",
    "```python\n",
    "# Exercise 17\n",
    "```"
   ]
  },
  {
   "cell_type": "code",
   "execution_count": 118,
   "id": "5f9925a5-1445-4c92-aa7c-b0bcf59e67be",
   "metadata": {},
   "outputs": [
    {
     "name": "stdout",
     "output_type": "stream",
     "text": [
      "[[4 5 2]\n",
      " [9 3 2]\n",
      " [5 3 3]]\n",
      "PPPPPPPPP\n",
      "[[53 83 21]\n",
      " [41 27 99]\n",
      " [20 82 89]]\n",
      "PPPPPPPPP\n",
      "[[212 415  42]\n",
      " [369  81 198]\n",
      " [100 246 267]]\n"
     ]
    }
   ],
   "source": [
    "q=pd.random.randint(0,10,(3,3))\n",
    "print(q)\n",
    "print(\"PPPPPPPPP\")\n",
    "p=pd.random.randint(10,100,(3,3))\n",
    "\n",
    "print(p)\n",
    "print(\"PPPPPPPPP\")\n",
    "w=print(pd.multiply(q,p))"
   ]
  },
  {
   "cell_type": "markdown",
   "id": "ce4a6cb5-19d0-4e0f-b9b4-d0f774465b71",
   "metadata": {},
   "source": [
    "---\n",
    "\n",
    "### Exercise 18:\n",
    "Create a diagonal matrix from a given 1D array.\n",
    "\n",
    "```python\n",
    "# Exercise 18\n",
    "```"
   ]
  },
  {
   "cell_type": "code",
   "execution_count": 124,
   "id": "3703457f-5874-47de-b2a4-1b92b2fbcf53",
   "metadata": {},
   "outputs": [
    {
     "data": {
      "text/plain": [
       "array([[3, 0, 0, 0, 0],\n",
       "       [0, 4, 0, 0, 0],\n",
       "       [0, 0, 5, 0, 0],\n",
       "       [0, 0, 0, 6, 0],\n",
       "       [0, 0, 0, 0, 7]])"
      ]
     },
     "execution_count": 124,
     "metadata": {},
     "output_type": "execute_result"
    }
   ],
   "source": [
    "q=pd.arange(3,8)\n",
    "pd.diag(q)"
   ]
  },
  {
   "cell_type": "markdown",
   "id": "1bba62a8-f908-498c-b9f5-642538defdc0",
   "metadata": {},
   "source": [
    "---\n",
    "\n",
    "### Exercise 19:\n",
    "Perform matrix multiplication on two 2D NumPy arrays.\n",
    "\n",
    "```python\n",
    "# Exercise 19\n",
    "```"
   ]
  },
  {
   "cell_type": "code",
   "execution_count": 128,
   "id": "776e6c2d-f3c6-4483-a69b-5a84fcbeb73b",
   "metadata": {},
   "outputs": [
    {
     "name": "stdout",
     "output_type": "stream",
     "text": [
      "[3 4 5 6]\n",
      "rrrrrrrrrrr\n",
      "[ 7  8  9 10]\n",
      "rrrrrrrrrrr\n",
      "[[21  0  0  0]\n",
      " [ 0 32  0  0]\n",
      " [ 0  0 45  0]\n",
      " [ 0  0  0 60]]\n",
      "[[21  0  0  0]\n",
      " [ 0 32  0  0]\n",
      " [ 0  0 45  0]\n",
      " [ 0  0  0 60]]\n"
     ]
    }
   ],
   "source": [
    "q=pd.arange(3,7)\n",
    "w=pd.arange(7,11)\n",
    "p1=pd.diag(q)\n",
    "p2=pd.diag(w)\n",
    "m=p1@p2\n",
    "Q=pd.dot(p1,p2)\n",
    "print(q)\n",
    "print(\"rrrrrrrrrrr\")\n",
    "print(w)\n",
    "print(\"rrrrrrrrrrr\")\n",
    "print(m)\n",
    "print(Q)"
   ]
  },
  {
   "cell_type": "markdown",
   "id": "1b251c37-0cf2-4d7d-a551-37ab8991d3f5",
   "metadata": {},
   "source": [
    "---\n",
    "\n",
    "### Exercise 20:\n",
    "Flatten a 2D NumPy array into a 1D array."
   ]
  },
  {
   "cell_type": "code",
   "execution_count": 143,
   "id": "21cb7b3b-5dc1-429f-a4b3-2f40439d02de",
   "metadata": {},
   "outputs": [
    {
     "data": {
      "text/plain": [
       "array([[3, 0, 0, 0, 0, 4, 0, 0, 0, 0, 5, 0, 0, 0, 0, 6]])"
      ]
     },
     "execution_count": 143,
     "metadata": {},
     "output_type": "execute_result"
    }
   ],
   "source": [
    "q=pd.arange(3,7)\n",
    "p1=pd.diag(q)\n",
    "p1.reshape(1,16)"
   ]
  },
  {
   "cell_type": "markdown",
   "id": "7ee63add-04e1-45f1-96ff-65a166c15a2b",
   "metadata": {},
   "source": [
    "---\n",
    "\n",
    "### Exercise 21:\n",
    "Stack two NumPy arrays vertically.\n",
    "\n",
    "```python\n",
    "# Exercise 21\n",
    "```"
   ]
  },
  {
   "cell_type": "code",
   "execution_count": 162,
   "id": "44009d51-ebd0-4410-bb8d-95c9fd8d8da9",
   "metadata": {},
   "outputs": [
    {
     "name": "stdout",
     "output_type": "stream",
     "text": [
      "[[3 3]\n",
      " [4 4]\n",
      " [5 5]\n",
      " [6 6]]\n"
     ]
    }
   ],
   "source": [
    "q = pd.arange(3, 7)\n",
    "x = pd.arange(3, 7)\n",
    "m = q.reshape(4, 1)\n",
    "n = x.reshape(4, 1)\n",
    "result = pd.column_stack((m, n))\n",
    "print(result)\n"
   ]
  },
  {
   "cell_type": "markdown",
   "id": "7d91ad19-4da5-45c5-bf6a-e1f52fdf4076",
   "metadata": {},
   "source": [
    "---\n",
    "\n",
    "### Exercise 22:\n",
    "Stack two NumPy arrays horizontally.\n",
    "\n",
    "```python\n",
    "# Exercise 22\n",
    "```"
   ]
  },
  {
   "cell_type": "code",
   "execution_count": 168,
   "id": "df035254-8204-45c8-93c6-db53f3166a25",
   "metadata": {},
   "outputs": [
    {
     "name": "stdout",
     "output_type": "stream",
     "text": [
      "[[3 4 5 6 3 4 5 6]]\n"
     ]
    }
   ],
   "source": [
    "q = pd.arange(3, 7)\n",
    "x = pd.arange(3, 7)\n",
    "m = q.reshape(1, 4)  \n",
    "n = x.reshape(1, 4)  \n",
    "result = pd.hstack((m, n))\n",
    "print(result)\n"
   ]
  },
  {
   "cell_type": "markdown",
   "id": "4692d19c-9899-4451-b762-6ea9a645d439",
   "metadata": {},
   "source": [
    "---\n",
    "\n",
    "### Exercise 23:\n",
    "Split a NumPy array into multiple sub-arrays.\n",
    "\n",
    "```python\n",
    "# Exercise 23\n",
    "```"
   ]
  },
  {
   "cell_type": "code",
   "execution_count": 170,
   "id": "2233110b-808a-4128-884a-8c3c34ed03a2",
   "metadata": {},
   "outputs": [
    {
     "name": "stdout",
     "output_type": "stream",
     "text": [
      "[array([0, 1]), array([2, 3]), array([4, 5]), array([6, 7]), array([8, 9])]\n"
     ]
    }
   ],
   "source": [
    "a = pd.arange(10)\n",
    "result = np.split(a, 5)\n",
    "print(result)\n"
   ]
  },
  {
   "cell_type": "markdown",
   "id": "121be6da-4fee-43ea-9ee8-4a26fbf81e54",
   "metadata": {},
   "source": [
    "---\n",
    "\n",
    "### Exercise 24:\n",
    "Generate a random NumPy array and round each element to two decimal places.\n",
    "\n",
    "```python\n",
    "# Exercise 24\n",
    "```"
   ]
  },
  {
   "cell_type": "code",
   "execution_count": 172,
   "id": "f1867d9b-b7c7-4d23-b7b7-c4117ea3db4c",
   "metadata": {
    "scrolled": true
   },
   "outputs": [
    {
     "name": "stdout",
     "output_type": "stream",
     "text": [
      "[[0.22 0.88 0.87]\n",
      " [0.01 0.3  0.74]\n",
      " [0.7  0.38 0.32]]\n"
     ]
    }
   ],
   "source": [
    "r = pd.random.rand(3,3)\n",
    "a = pd.round(r, 2)\n",
    "\n",
    "print(a)"
   ]
  },
  {
   "cell_type": "markdown",
   "id": "7b3072b1-4b52-486e-82f0-9e174d32653a",
   "metadata": {},
   "source": [
    "---\n",
    "\n",
    "### Exercise 25:\n",
    "Find the unique elements of a NumPy array.\n",
    "\n",
    "```python\n",
    "# Exercise 25\n",
    "```"
   ]
  },
  {
   "cell_type": "code",
   "execution_count": 174,
   "id": "d033933a-87f1-4784-ab83-70b67d2b3151",
   "metadata": {},
   "outputs": [
    {
     "name": "stdout",
     "output_type": "stream",
     "text": [
      "[1 2 4 5]\n"
     ]
    }
   ],
   "source": [
    "a = pd.array([1, 2, 2,  4, 4, 5])\n",
    "u = pd.unique(a)\n",
    "print(u)"
   ]
  },
  {
   "cell_type": "markdown",
   "id": "cdb70ec0-17e2-4c84-8364-b1be76c3d638",
   "metadata": {},
   "source": [
    "---\n",
    "\n",
    "### Exercise 26:\n",
    "Replace all elements in a NumPy array that are less than a specific value with that value."
   ]
  },
  {
   "cell_type": "code",
   "execution_count": 178,
   "id": "8fe740fc-9552-4339-a0e6-39a5962472d1",
   "metadata": {},
   "outputs": [
    {
     "name": "stdout",
     "output_type": "stream",
     "text": [
      "[9. 9. 9. 9. 9.]\n"
     ]
    }
   ],
   "source": [
    "a = pd.random.rand(5)\n",
    "v = 5\n",
    "a[a < v] = 9\n",
    "\n",
    "print(a)\n"
   ]
  },
  {
   "cell_type": "markdown",
   "id": "a1377468-cef5-4d71-9f37-914cba01c34e",
   "metadata": {},
   "source": [
    "```python\n",
    "# Exercise 26\n",
    "```"
   ]
  },
  {
   "cell_type": "markdown",
   "id": "9b2901a4-1700-4760-b2b5-fbdf4062f465",
   "metadata": {},
   "source": [
    "---\n",
    "\n",
    "### Exercise 27:\n",
    "Find the cumulative sum of the elements in a NumPy array.\n",
    "\n",
    "```python\n",
    "# Exercise 27\n",
    "```"
   ]
  },
  {
   "cell_type": "code",
   "execution_count": 180,
   "id": "404acfee-493b-4839-b0ea-9fb90e79b491",
   "metadata": {},
   "outputs": [
    {
     "name": "stdout",
     "output_type": "stream",
     "text": [
      "[ 6  8  8 12 17]\n"
     ]
    }
   ],
   "source": [
    "a = pd.array([6, 2, 0, 4, 5])\n",
    "c = pd.cumsum(a)\n",
    "\n",
    "print(c)\n"
   ]
  },
  {
   "cell_type": "markdown",
   "id": "e748a4d3-d762-4e6f-87db-76bcb426157f",
   "metadata": {},
   "source": [
    "---\n",
    "\n",
    "### Exercise 28:\n",
    "Create a NumPy array and find the number of non-zero elements in it.\n",
    "\n",
    "```python\n",
    "# Exercise 28\n",
    "```"
   ]
  },
  {
   "cell_type": "code",
   "execution_count": 181,
   "id": "0ee0584e-8a52-43ec-8875-5481fae0f7cc",
   "metadata": {},
   "outputs": [
    {
     "name": "stdout",
     "output_type": "stream",
     "text": [
      "4\n"
     ]
    }
   ],
   "source": [
    "a = pd.array([0, 1, 2, 0, 3, 4, 0])\n",
    "n = pd.count_nonzero(a)\n",
    "\n",
    "print(n)"
   ]
  },
  {
   "cell_type": "markdown",
   "id": "8484d73b-7eba-40ba-8834-b3588a9c1776",
   "metadata": {},
   "source": [
    "---\n",
    "\n",
    "### Exercise 29:\n",
    "Create a NumPy array of random integers and sort it in ascending order.\n",
    "\n",
    "```python\n",
    "# Exercise 29\n",
    "```"
   ]
  },
  {
   "cell_type": "code",
   "execution_count": 13,
   "id": "2e447955-d959-4695-a1a7-ab7beb47a8c7",
   "metadata": {},
   "outputs": [
    {
     "name": "stdout",
     "output_type": "stream",
     "text": [
      "[ 2  5 21 31 35 49 54 57 89 98]\n"
     ]
    }
   ],
   "source": [
    "a = pd.random.randint(1,100,10)\n",
    "s = pd.sort(a)\n",
    "print(s)\n"
   ]
  },
  {
   "cell_type": "markdown",
   "id": "61a401a4-4de0-439d-a2c4-c1401ebfd51e",
   "metadata": {},
   "source": [
    "---\n",
    "\n",
    "### Exercise 30:\n",
    "Find the row-wise and column-wise sum of a 3x3 matrix.\n",
    "\n",
    "```python\n",
    "# Exercise 30\n",
    "```"
   ]
  },
  {
   "cell_type": "code",
   "execution_count": 17,
   "id": "c5632aac-426b-4d1a-aa22-38fd80dcc531",
   "metadata": {},
   "outputs": [
    {
     "name": "stdout",
     "output_type": "stream",
     "text": [
      "[[1 2 3]\n",
      " [4 5 6]\n",
      " [7 8 9]]\n",
      "Row: [ 6 15 24]\n",
      "Column: [12 15 18]\n"
     ]
    }
   ],
   "source": [
    "a = pd.array([[1, 2, 3], [4, 5, 6], [7, 8, 9]])\n",
    "r= pd.sum(a, axis=1)\n",
    "c= pd.sum(a, axis=0)\n",
    "print(a)\n",
    "print(\"Row:\", r)\n",
    "print(\"Column:\", c)\n"
   ]
  },
  {
   "cell_type": "markdown",
   "id": "c223957b-4ef5-4df0-a3ff-db2c121ad856",
   "metadata": {},
   "source": [
    "---\n",
    "\n",
    "### Exercise 31:\n",
    "Generate a 2D NumPy array with random values and normalize it (scale the values between 0 and 1).\n",
    "\n",
    "```python\n",
    "# Exercise 31\n",
    "```"
   ]
  },
  {
   "cell_type": "code",
   "execution_count": 19,
   "id": "49e70cc1-dc01-4798-a86c-3e1a327b20ec",
   "metadata": {},
   "outputs": [
    {
     "name": "stdout",
     "output_type": "stream",
     "text": [
      "[[0.         0.98608483 0.21345673]\n",
      " [0.27442403 0.41524796 0.8842512 ]\n",
      " [0.61869739 1.         0.20747448]]\n"
     ]
    }
   ],
   "source": [
    "a = pd.random.rand(3, 3)\n",
    "n = (a - a.min()) / (a.max() - a.min())\n",
    "print(n)\n"
   ]
  },
  {
   "cell_type": "markdown",
   "id": "fd4fe6ac-3c77-45f7-9b35-879b0dd685be",
   "metadata": {},
   "source": [
    "---\n",
    "\n",
    "### Exercise 32:\n",
    "Create two NumPy arrays and find the dot product.\n",
    "\n",
    "```python\n",
    "# Exercise 32\n",
    "```"
   ]
  },
  {
   "cell_type": "code",
   "execution_count": 21,
   "id": "cc7ca29b-b555-46be-82d9-ddde7f057701",
   "metadata": {},
   "outputs": [
    {
     "name": "stdout",
     "output_type": "stream",
     "text": [
      "32\n"
     ]
    }
   ],
   "source": [
    "a = pd.array([1, 2,3])\n",
    "b = pd.array([4,5, 6])\n",
    "dot= pd.dot(a, b)\n",
    "\n",
    "print(dot)"
   ]
  },
  {
   "cell_type": "markdown",
   "id": "d75b8af8-ba5b-4b09-ba23-0231ff328329",
   "metadata": {},
   "source": [
    "---\n",
    "\n",
    "### Exercise 33:\n",
    "Find the trace of a square NumPy matrix.\n",
    "\n",
    "```python\n",
    "# Exercise 33\n",
    "```"
   ]
  },
  {
   "cell_type": "code",
   "execution_count": 22,
   "id": "65fdfcac-cdb1-44e1-acd6-6b4af8fbe7aa",
   "metadata": {},
   "outputs": [
    {
     "name": "stdout",
     "output_type": "stream",
     "text": [
      "15\n"
     ]
    }
   ],
   "source": [
    "a = pd.array([[1,2, 3], [4, 5,6], [7, 8,9]])\n",
    "t= pd.trace(a)\n",
    "\n",
    "print(t)\n"
   ]
  },
  {
   "cell_type": "markdown",
   "id": "2f2c6389-fe10-4c1c-8e00-fe06f51316ce",
   "metadata": {},
   "source": [
    "---\n",
    "\n",
    "### Exercise 34:\n",
    "Create a 2D array and swap two rows.\n",
    "\n",
    "```python\n",
    "# Exercise 34\n",
    "```"
   ]
  },
  {
   "cell_type": "code",
   "execution_count": 23,
   "id": "b5f91d15-2f9a-4325-a5a3-ac77562e3d2a",
   "metadata": {},
   "outputs": [
    {
     "name": "stdout",
     "output_type": "stream",
     "text": [
      "[[7 8 9]\n",
      " [4 5 6]\n",
      " [1 2 3]]\n"
     ]
    }
   ],
   "source": [
    "a = pd.array([[1, 2, 3], [4, 5, 6], [7, 8, 9]])\n",
    "a[[0, 2]] = a[[2, 0]]\n",
    "print(a)\n"
   ]
  },
  {
   "cell_type": "markdown",
   "id": "835e463b-ce2d-4c7c-a563-00f9886c6781",
   "metadata": {},
   "source": [
    "---\n",
    "\n",
    "### Exercise 35:\n",
    "Create a 1D NumPy array and convert it into a column vector.\n",
    "\n",
    "```python\n",
    "# Exercise 35\n",
    "```"
   ]
  },
  {
   "cell_type": "code",
   "execution_count": 29,
   "id": "74ff1283-514a-4337-bb57-0eca9e16f1fb",
   "metadata": {},
   "outputs": [
    {
     "name": "stdout",
     "output_type": "stream",
     "text": [
      "[[1]\n",
      " [2]\n",
      " [3]\n",
      " [4]\n",
      " [5]]\n"
     ]
    }
   ],
   "source": [
    "a = pd.array([1, 2, 3, 4, 5])\n",
    "r = pd.column_stack((a))\n",
    "c= a.reshape(-1, 1)\n",
    "\n",
    "print(c)"
   ]
  },
  {
   "cell_type": "markdown",
   "id": "9de1d14d-3c0d-45ea-8724-f7e5732a967c",
   "metadata": {},
   "source": [
    "---\n",
    "\n",
    "### Exercise 36:\n",
    "Find the determinant of a 3x3 matrix.\n",
    "\n",
    "```python\n",
    "# Exercise 36\n",
    "```"
   ]
  },
  {
   "cell_type": "code",
   "execution_count": 31,
   "id": "c2b6c34e-20f2-4030-9abf-71f0f22ccbe2",
   "metadata": {},
   "outputs": [
    {
     "name": "stdout",
     "output_type": "stream",
     "text": [
      "-9.51619735392994e-16\n"
     ]
    }
   ],
   "source": [
    "a = pd.array([[1,2,3], [4, 5,6], [7,8,9]])\n",
    "d= pd.linalg.det(a)\n",
    "print(d)\n"
   ]
  },
  {
   "cell_type": "markdown",
   "id": "a7d0c1a4-570e-417d-8276-2f203cc20c84",
   "metadata": {},
   "source": [
    "---\n",
    "\n",
    "### Exercise 37:\n",
    "Find the eigenvalues and eigenvectors of a 2x2 matrix.\n",
    "\n",
    "```python\n",
    "# Exercise 37\n",
    "```"
   ]
  },
  {
   "cell_type": "code",
   "execution_count": 34,
   "id": "f58a3225-46a3-4631-9fa5-411a230919f7",
   "metadata": {},
   "outputs": [
    {
     "name": "stdout",
     "output_type": "stream",
     "text": [
      "Eigen values: EigResult(eigenvalues=array([5., 2.]), eigenvectors=array([[ 0.89442719, -0.70710678],\n",
      "       [ 0.4472136 ,  0.70710678]]))\n"
     ]
    }
   ],
   "source": [
    "a = pd.array([[4, 2], [1, 3]])\n",
    "value=pd.linalg.eig(a)\n",
    "\n",
    "print(\"Eigen values:\",value)\n"
   ]
  },
  {
   "cell_type": "markdown",
   "id": "98d2b297-4a7d-490d-885a-8fcaedf0c6de",
   "metadata": {},
   "source": [
    "---\n",
    "\n",
    "### Exercise 38:\n",
    "Solve a system of linear equations using NumPy.\n",
    "\n",
    "```python\n",
    "# Exercise 38\n",
    "```"
   ]
  },
  {
   "cell_type": "code",
   "execution_count": 35,
   "id": "e9834b50-df79-45c2-bb0a-8955653df281",
   "metadata": {},
   "outputs": [
    {
     "name": "stdout",
     "output_type": "stream",
     "text": [
      "Solution: [2.2 1.2]\n"
     ]
    }
   ],
   "source": [
    "A = pd.array([[2, 3], [4, 1]])\n",
    "b = pd.array([8, 10])\n",
    "sol= pd.linalg.solve(A, b)\n",
    "\n",
    "print(\"Solution:\",sol)\n"
   ]
  },
  {
   "cell_type": "markdown",
   "id": "d131af79-ec09-4a06-b277-ea2ea9c7f6aa",
   "metadata": {},
   "source": [
    "---\n",
    "\n",
    "### Exercise 39:\n",
    "Add Gaussian noise to a NumPy array.\n",
    "\n",
    "```python\n",
    "# Exercise 39\n",
    "```"
   ]
  },
  {
   "cell_type": "code",
   "execution_count": 38,
   "id": "b19b9950-1371-4c39-8768-534cf7f4f80c",
   "metadata": {},
   "outputs": [
    {
     "name": "stdout",
     "output_type": "stream",
     "text": [
      "[0.98149094 2.00127015 2.95629268 4.06301227 5.01842126]\n"
     ]
    }
   ],
   "source": [
    "a = pd.array([1, 2, 3, 4, 5])\n",
    "noise = pd.random.normal(0, 0.1, a.shape)\n",
    "n = a+noise\n",
    "print(n)\n"
   ]
  },
  {
   "cell_type": "markdown",
   "id": "fb31cea0-962c-47ac-bfad-62cf1c6e7b50",
   "metadata": {},
   "source": [
    "---\n",
    "\n",
    "### Exercise 40:\n",
    "Create a 4x4 matrix and extract the diagonal elements.\n",
    "\n",
    "```python\n",
    "# Exercise 40\n",
    "```"
   ]
  },
  {
   "cell_type": "code",
   "execution_count": 41,
   "id": "69efce99-3a84-4610-8a0d-3d99bbe5b994",
   "metadata": {},
   "outputs": [
    {
     "name": "stdout",
     "output_type": "stream",
     "text": [
      "[ 1  6 11 16]\n"
     ]
    }
   ],
   "source": [
    "a = pd.array([[1,2,3,4],[5,6,7,8], [9,10,11,12],[13,14,15,16]])\n",
    "d= pd.diagonal(a)\n",
    "print(d)"
   ]
  },
  {
   "cell_type": "markdown",
   "id": "55736a58-693f-4156-9d1c-74902d66c75e",
   "metadata": {},
   "source": [
    "---\n",
    "\n",
    "### Exercise 41:\n",
    "Generate a NumPy array of 100 random values and clip the values to a range between 10 and 50.\n",
    "\n",
    "```python\n",
    "# Exercise 41\n",
    "```"
   ]
  },
  {
   "cell_type": "code",
   "execution_count": 43,
   "id": "7b1c38de-4771-47ce-b6d9-bf1554185120",
   "metadata": {},
   "outputs": [
    {
     "name": "stdout",
     "output_type": "stream",
     "text": [
      "[10. 10. 10. 10. 10. 10. 10. 10. 10. 10. 10. 10. 10. 10. 10. 10. 10. 10.\n",
      " 10. 10. 10. 10. 10. 10. 10. 10. 10. 10. 10. 10. 10. 10. 10. 10. 10. 10.\n",
      " 10. 10. 10. 10. 10. 10. 10. 10. 10. 10. 10. 10. 10. 10. 10. 10. 10. 10.\n",
      " 10. 10. 10. 10. 10. 10. 10. 10. 10. 10. 10. 10. 10. 10. 10. 10. 10. 10.\n",
      " 10. 10. 10. 10. 10. 10. 10. 10. 10. 10. 10. 10. 10. 10. 10. 10. 10. 10.\n",
      " 10. 10. 10. 10. 10. 10. 10. 10. 10. 10.]\n"
     ]
    }
   ],
   "source": [
    "a = pd.random.rand(100)   \n",
    "c= pd.clip(a, 10, 50)\n",
    "print(c)\n"
   ]
  },
  {
   "cell_type": "markdown",
   "id": "5728cd79-1f9a-4000-af92-d4dbffb8ea57",
   "metadata": {},
   "source": [
    "---\n",
    "\n",
    "### Exercise 42:\n",
    "Create a 2D NumPy array and replace all negative values with zero.\n",
    "\n",
    "```python\n",
    "# Exercise 42\n",
    "```"
   ]
  },
  {
   "cell_type": "markdown",
   "id": "5c291041-4980-479b-9fe2-b35cb2a8ab81",
   "metadata": {},
   "source": [
    "---\n",
    "\n",
    "### Exercise 43:\n",
    "Find the inner and outer products of two NumPy arrays.\n",
    "\n",
    "```python\n",
    "# Exercise 43\n",
    "```"
   ]
  },
  {
   "cell_type": "code",
   "execution_count": 44,
   "id": "36678272-7993-40dc-968d-db9594a9d872",
   "metadata": {},
   "outputs": [
    {
     "name": "stdout",
     "output_type": "stream",
     "text": [
      "[[1 0 3]\n",
      " [0 5 0]\n",
      " [7 0 9]]\n"
     ]
    }
   ],
   "source": [
    "a = pd.array([[1, -2, 3], [-4, 5, -6], [7, -8, 9]])\n",
    "a[a < 0] = 0\n",
    "print(a)"
   ]
  },
  {
   "cell_type": "markdown",
   "id": "c8a4bfdd-7d6e-4d02-9b3f-38fbd46bc960",
   "metadata": {},
   "source": [
    "---\n",
    "\n",
    "### Exercise 44:\n",
    "Calculate the pairwise distances between points in a NumPy array.\n",
    "\n",
    "```python\n",
    "# Exercise 44\n",
    "```"
   ]
  },
  {
   "cell_type": "markdown",
   "id": "c892dcbe-6036-4582-89c0-5e3d4b2e548b",
   "metadata": {},
   "source": [
    "---\n",
    "\n",
    "### Exercise 45:\n",
    "Create a structured NumPy array with fields for `name`, `age`, and `height`.\n",
    "\n",
    "```python\n",
    "# Exercise 45\n",
    "```"
   ]
  },
  {
   "cell_type": "code",
   "execution_count": 45,
   "id": "e33ee7f7-643d-4f42-b0f6-52eed047c73c",
   "metadata": {},
   "outputs": [
    {
     "name": "stdout",
     "output_type": "stream",
     "text": [
      "[('Alice', 25, 5.6) ('Bob', 30, 5.8) ('Charlie', 22, 5.5)]\n"
     ]
    }
   ],
   "source": [
    "dtype = pd.dtype([('name', 'U20'), ('age', 'i4'), ('height', 'f4')])\n",
    "data = pd.array([(b'Alice', 25, 5.6),  (b'Bob', 30, 5.8),  (b'Charlie', 22, 5.5)], dtype=dtype)\n",
    "print(data)\n"
   ]
  },
  {
   "cell_type": "markdown",
   "id": "617842b5-eb9e-4839-86da-4ba241bd0992",
   "metadata": {},
   "source": [
    "---\n",
    "\n",
    "### Exercise 46:\n",
    "Create a 5x5 matrix of random integers and count the occurrences of each unique value.\n",
    "\n",
    "```python\n",
    "# Exercise 46\n",
    "```"
   ]
  },
  {
   "cell_type": "code",
   "execution_count": 52,
   "id": "4ae24e45-2fad-4a99-95b3-9d4602372d3b",
   "metadata": {},
   "outputs": [
    {
     "name": "stdout",
     "output_type": "stream",
     "text": [
      "[[6 6 5 9 6]\n",
      " [0 9 9 1 6]\n",
      " [5 0 4 3 0]\n",
      " [3 1 3 4 7]\n",
      " [4 2 5 4 7]]\n",
      "[[[0 1 2 3 4 5 6 7 9]]\n",
      "\n",
      " [[3 2 1 3 4 3 4 2 3]]]\n"
     ]
    }
   ],
   "source": [
    "matrix = pd.random.randint(0,10,(5, 5))\n",
    "u= pd.unique(matrix, return_counts=True)\n",
    "oc = pd.array(list(zip(u)))\n",
    "print(matrix)\n",
    "print(oc)\n"
   ]
  },
  {
   "cell_type": "markdown",
   "id": "3da545f5-6348-42c5-b4e2-41dcc8e05cb2",
   "metadata": {},
   "source": [
    "---\n",
    "\n",
    "### Exercise 48:\n",
    "Create a NumPy array of random integers and check if any of the values are greater than 50.\n",
    "\n",
    "```python\n",
    "# Exercise 48\n",
    "```"
   ]
  },
  {
   "cell_type": "code",
   "execution_count": 53,
   "id": "1f625d80-0bdd-4a05-9d64-8876825e4ee2",
   "metadata": {},
   "outputs": [
    {
     "name": "stdout",
     "output_type": "stream",
     "text": [
      "[60 72 46 42 91 29 65  7 39 25]\n",
      "values greater than 50: True\n"
     ]
    }
   ],
   "source": [
    "a = pd.random.randint(0, 100,10)\n",
    "an=(a > 50).any()\n",
    "print(a)\n",
    "print(\"values greater than 50:\", an)\n"
   ]
  },
  {
   "cell_type": "markdown",
   "id": "d4665cf1-7519-4dbd-ab48-ac33392b6f7b",
   "metadata": {},
   "source": [
    "---\n",
    "\n",
    "### Exercise 49:\n",
    "Calculate the moving average of a 1D NumPy array.\n",
    "\n",
    "```python\n",
    "# Exercise 49\n",
    "`"
   ]
  },
  {
   "cell_type": "code",
   "execution_count": 57,
   "id": "9c19743f-518f-4f6e-b3e9-313151187c62",
   "metadata": {},
   "outputs": [
    {
     "name": "stdout",
     "output_type": "stream",
     "text": [
      "Original: [ 1  2  3  4  5  6  7  8  9 10]\n",
      "[ 1  2  3  4  5  6  7  8  9 10]\n",
      "\n",
      " average: [2. 3. 4. 5. 6. 7. 8. 9.]\n"
     ]
    }
   ],
   "source": [
    "a = pd.array([1, 2, 3, 4, 5, 6, 7, 8, 9, 10])\n",
    "size=3\n",
    "mov= pd.convolve(a,pd.array([1/size]*size), mode='valid')\n",
    "print(\"Original:\",a)\n",
    "print(a)\n",
    "print(\"\\n average:\",mov)\n"
   ]
  },
  {
   "cell_type": "markdown",
   "id": "10464f45-313e-424c-8b75-dfe1e5f887a4",
   "metadata": {},
   "source": [
    "---\n",
    "\n",
    "### Exercise 50:\n",
    "Find the Pearson correlation coefficient between two NumPy arrays.\n",
    "\n",
    "```python\n",
    "# Exercise 50\n",
    "`"
   ]
  },
  {
   "cell_type": "code",
   "execution_count": 60,
   "id": "d8c73117-7e62-410b-82fe-245044f44f81",
   "metadata": {},
   "outputs": [
    {
     "name": "stdout",
     "output_type": "stream",
     "text": [
      "corr coefficient: -0.9999999999999999\n"
     ]
    }
   ],
   "source": [
    "x = pd.array([1,2, 3,4,5])\n",
    "y = pd.array([5,4,3, 2,1])\n",
    "matrix = pd.corrcoef(x, y)\n",
    "corr =matrix[0,1]\n",
    "\n",
    "print(\"corr coefficient:\",corr)\n"
   ]
  },
  {
   "cell_type": "markdown",
   "id": "fef8c968-cf93-4037-966b-0711635a6882",
   "metadata": {},
   "source": [
    "---\n",
    "\n",
    "### Exercise 51:\n",
    "Convert a NumPy array of radians to degrees.\n",
    "\n",
    "```python\n",
    "# Exercise 51\n",
    "```"
   ]
  },
  {
   "cell_type": "code",
   "execution_count": 62,
   "id": "d595a6ae-dd91-4758-8416-6cf3e51cffd7",
   "metadata": {},
   "outputs": [
    {
     "name": "stdout",
     "output_type": "stream",
     "text": [
      "[0.         0.78539816 1.57079633 3.14159265 4.71238898 6.28318531]\n",
      "[  0.  45.  90. 180. 270. 360.]\n"
     ]
    }
   ],
   "source": [
    "rad=pd.array([0, pd.pi/4, pd.pi/2, pd.pi, 3*pd.pi/2, 2*pd.pi])\n",
    "degrees=pd.degrees(rad)\n",
    "print(rad)\n",
    "print(degrees)\n"
   ]
  },
  {
   "cell_type": "markdown",
   "id": "266bfcf2-e3f1-4de7-a0fd-7deb50a1f856",
   "metadata": {},
   "source": [
    "\n",
    "\n",
    "\n",
    "---\n",
    "\n",
    "---\n",
    "\n",
    "\n",
    "---\n",
    "\n",
    "\n",
    "---\n",
    "\n",
    "\n",
    "\n",
    "```python\n",
    "# Exercise 20\n",
    "```\n",
    "\n",
    "\n",
    "---\n",
    "\n",
    "### Exercise 52:\n",
    "Create a random NumPy array and compute its variance and standard deviation.\n",
    "\n",
    "```python\n",
    "# Exercise 52\n",
    "```\n",
    "\n",
    "---\n",
    "\n",
    "### Exercise 53:\n",
    "Create a 2D NumPy array and find the indices of the maximum values along each axis.\n",
    "\n",
    "```python\n",
    "# Exercise 53\n",
    "```\n",
    "\n",
    "---\n",
    "\n",
    "### Exercise 54:\n",
    "Compute the inverse of a 2x2 NumPy matrix.\n",
    "\n",
    "```python\n",
    "# Exercise 54\n",
    "```\n",
    "\n",
    "---\n",
    "\n",
    "### Exercise 55:\n",
    "Create a NumPy array of 10 random values and standardize it (mean 0, variance 1).\n",
    "\n",
    "```python\n",
    "# Exercise 55\n",
    "```\n",
    "\n",
    "---\n",
    "\n",
    "### Exercise 56:\n",
    "Perform element-wise addition and subtraction on two NumPy arrays.\n",
    "\n",
    "```python\n",
    "# Exercise 56\n",
    "```\n",
    "\n",
    "---\n",
    "\n",
    "### Exercise 57:\n",
    "Create a NumPy array of random values and find the maximum element's index.\n",
    "\n",
    "```python\n",
    "# Exercise 57\n",
    "```\n",
    "\n",
    "---\n",
    "\n",
    "### Exercise 58:\n",
    "Create a 3x3 NumPy array and rotate it by 90 degrees.\n",
    "\n",
    "```python\n",
    "# Exercise 58\n",
    "```\n",
    "\n",
    "---\n",
    "\n",
    "### Exercise 59:\n",
    "Compute the Frobenius norm of a matrix.\n",
    "\n",
    "```python\n",
    "# Exercise 59\n",
    "```\n",
    "\n",
    "---\n",
    "\n",
    "### Exercise 60:\n",
    "Create a 3D NumPy array and slice out a subarray.\n",
    "\n",
    "```python\n",
    "# Exercise 60\n",
    "```\n",
    "\n",
    "---\n"
   ]
  },
  {
   "cell_type": "code",
   "execution_count": null,
   "id": "6014761d-87e2-4e98-8705-4c0354a15743",
   "metadata": {},
   "outputs": [],
   "source": []
  }
 ],
 "metadata": {
  "kernelspec": {
   "display_name": "Python 3 (ipykernel)",
   "language": "python",
   "name": "python3"
  },
  "language_info": {
   "codemirror_mode": {
    "name": "ipython",
    "version": 3
   },
   "file_extension": ".py",
   "mimetype": "text/x-python",
   "name": "python",
   "nbconvert_exporter": "python",
   "pygments_lexer": "ipython3",
   "version": "3.11.7"
  }
 },
 "nbformat": 4,
 "nbformat_minor": 5
}
