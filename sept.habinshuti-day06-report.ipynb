{
 "cells": [
  {
   "cell_type": "markdown",
   "id": "245d60e0-60c4-4a8c-9c83-3ad8cd8bad73",
   "metadata": {},
   "source": [
    "1. Compute the following expressions for a natural number n chosen by the user:\n",
    "(i)\n",
    "nX−1\n",
    "i=0\n",
    "i is odd\n",
    "(i + 3)."
   ]
  },
  {
   "cell_type": "code",
   "execution_count": 82,
   "id": "4c27038c-bbff-4a9a-8a47-d9f750574c6a",
   "metadata": {},
   "outputs": [
    {
     "name": "stdin",
     "output_type": "stream",
     "text": [
      "enter n 3\n"
     ]
    },
    {
     "name": "stdout",
     "output_type": "stream",
     "text": [
      "4\n"
     ]
    }
   ],
   "source": [
    "n=int(input(\"enter n\"))\n",
    "s=0\n",
    "for i in range(n):\n",
    "    if i%2!=0:\n",
    "        s+=(i+3)\n",
    "\n",
    "print(s)"
   ]
  },
  {
   "cell_type": "code",
   "execution_count": 85,
   "id": "8eb3ca49-05ab-469b-84b2-c060dbbd7467",
   "metadata": {},
   "outputs": [
    {
     "name": "stdin",
     "output_type": "stream",
     "text": [
      "Enter n:  3\n"
     ]
    },
    {
     "name": "stdout",
     "output_type": "stream",
     "text": [
      "15\n"
     ]
    }
   ],
   "source": [
    "n = int(input(\"Enter n: \"))\n",
    "p = 1\n",
    "for i in range(n):\n",
    "    if i % 2 == 0:\n",
    "        p *= i + 3\n",
    "\n",
    "print(p)"
   ]
  },
  {
   "cell_type": "markdown",
   "id": "92d8e312-fc79-4e24-848a-38141b8b625d",
   "metadata": {},
   "source": [
    "Write a program that reads the number of the day of the week (from 0 to 6). If it is a\n",
    "working day, then the program will write the name of the corresponding day. Otherwise,\n",
    "it will write the word \"Weekend\"."
   ]
  },
  {
   "cell_type": "code",
   "execution_count": 87,
   "id": "708a6183-c365-47af-a41a-61ba5159a89a",
   "metadata": {},
   "outputs": [
    {
     "name": "stdin",
     "output_type": "stream",
     "text": [
      "number between 0 and 6 4\n"
     ]
    },
    {
     "name": "stdout",
     "output_type": "stream",
     "text": [
      "fri\n",
      "are u kidding!! week has 7 days\n"
     ]
    }
   ],
   "source": [
    "a=[\"mond\",\"tue\",\"wed\",\"thur\",\"frid\"]\n",
    "b=int(input(\"number between 0 and 6 you enter :\"))\n",
    "if b==0:\n",
    "    \n",
    "    print(\"monday\")\n",
    "if b==1:\n",
    "    print(\"tue\")\n",
    "if b==2:\n",
    "    print(\"wed\")\n",
    "if b==3:\n",
    "    print(\"thur\")\n",
    "if b==4:\n",
    "    print(\"fri\")\n",
    "\n",
    "if b==5:\n",
    "    print(\"weekend\")\n",
    "if b==6:\n",
    "    print(\"weekend\")\n",
    "\n",
    "else:\n",
    "    print(\"are u kidding!! week has 7 days\")\n",
    "\n",
    "    "
   ]
  },
  {
   "cell_type": "code",
   "execution_count": 89,
   "id": "8ead9ee5-f54c-4ff7-847d-8d48898722af",
   "metadata": {},
   "outputs": [
    {
     "name": "stdin",
     "output_type": "stream",
     "text": [
      "Enter a number between 0 and 6:  6\n"
     ]
    },
    {
     "name": "stdout",
     "output_type": "stream",
     "text": [
      "weekend\n"
     ]
    }
   ],
   "source": [
    "a = [\"monday\", \"tuesday\", \"wednesday\", \"thursday\", \"friday\", \"weekend\", \"weekend\"]\n",
    "b = int(input(\"Enter a number between 0 and 6: \"))\n",
    "\n",
    "if 0 <= b <= 6:\n",
    "    print(a[b])\n",
    "else:\n",
    "    print(\"Are you kidding? The week has only 7 days\")\n"
   ]
  },
  {
   "cell_type": "code",
   "execution_count": null,
   "id": "37e7d0e8-902b-4751-9f93-b3edf5a33b9d",
   "metadata": {},
   "outputs": [],
   "source": []
  },
  {
   "cell_type": "markdown",
   "id": "54e2ef5f-fc41-402e-8f37-b44c951dc1dd",
   "metadata": {},
   "source": [
    "Make a program that, given a month number (from 0 to 11), indicates how many days it\n",
    "has (28, 30 or 31), ignoring the leap years."
   ]
  },
  {
   "cell_type": "code",
   "execution_count": 91,
   "id": "a1061c4b-0a1f-467e-b065-f8f41d43d994",
   "metadata": {},
   "outputs": [
    {
     "name": "stdin",
     "output_type": "stream",
     "text": [
      "Enter a number between 0 and 11:  4\n"
     ]
    },
    {
     "name": "stdout",
     "output_type": "stream",
     "text": [
      "31\n"
     ]
    }
   ],
   "source": [
    "c = int(input(\"Enter a number between 0 and 11: \"))\n",
    "\n",
    "if c == 0 or c == 2 or c == 4 or c == 6 or c == 7 or c == 9 or c == 11:\n",
    "    print(31)\n",
    "elif c == 3 or c == 5 or c == 8 or c == 10:\n",
    "    print(30)\n",
    "elif c == 1:\n",
    "    print(\"28\")\n",
    "else:\n",
    "    print(\"Are you kidding? The year has only 12 months\")\n"
   ]
  },
  {
   "cell_type": "code",
   "execution_count": null,
   "id": "818c8247-7941-4fe8-b283-6edd7f56da30",
   "metadata": {},
   "outputs": [],
   "source": []
  },
  {
   "cell_type": "markdown",
   "id": "d18dcb5f-4c50-4d7d-86f5-6208c8eb8570",
   "metadata": {},
   "source": [
    "Write two versions of python code that displays your name 3 times. One version with a\n",
    "\"for loop\" and another version with a \"while loop\"."
   ]
  },
  {
   "cell_type": "code",
   "execution_count": 74,
   "id": "dd906424-88b0-4a05-86b1-b472658796d2",
   "metadata": {},
   "outputs": [
    {
     "name": "stdout",
     "output_type": "stream",
     "text": [
      "HABINSHUTI\n",
      "HABINSHUTI\n",
      "HABINSHUTI\n"
     ]
    }
   ],
   "source": [
    "me=\"HABINSHUTI\"\n",
    "q=range(3)\n",
    "for i in q:\n",
    "    print(me)"
   ]
  },
  {
   "cell_type": "code",
   "execution_count": 93,
   "id": "f178faa6-939b-46e3-b892-59422237b08c",
   "metadata": {},
   "outputs": [
    {
     "name": "stdout",
     "output_type": "stream",
     "text": [
      "HABINSHUTI\n",
      "HABINSHUTI\n",
      "HABINSHUTI\n"
     ]
    }
   ],
   "source": [
    "me=\"HABINSHUTI\"\n",
    "q=3\n",
    "i=0\n",
    "while (i<q):\n",
    "    \n",
    "    print(me)\n",
    "    \n",
    "    \n",
    "    i=i+1\n",
    "\n",
    "\n",
    "  \n"
   ]
  },
  {
   "cell_type": "markdown",
   "id": "8cd11352-ddbe-496c-b797-178cffdbc701",
   "metadata": {},
   "source": [
    "Given two numbers a0 and a1, the Fibonacci sequence they generate is constructed from\n",
    "the recursion formula an+1 = an + an−1. Calculate the first 15 terms of a Fibonacci\n",
    "sequence, asking the user the initial values."
   ]
  },
  {
   "cell_type": "code",
   "execution_count": null,
   "id": "2791c88a-b94b-4493-88bb-be8de333e802",
   "metadata": {},
   "outputs": [],
   "source": [
    "a=int(input(\"first number\"))\n",
    "b=int(input(\"second number\"))\n",
    "c=a+b\n"
   ]
  },
  {
   "cell_type": "markdown",
   "id": "76a8da05-b416-40d9-bc63-fbe57c3ebf2d",
   "metadata": {},
   "source": [
    "5. Given two numbers a0 and a1, the Fibonacci sequence they generate is constructed from\r\n",
    "the recursion formula an+1 = an + an−1. Calculate the first 15 terms of a Fibonacci\r\n",
    "sequence, asking the user the initial values."
   ]
  },
  {
   "cell_type": "code",
   "execution_count": 94,
   "id": "0223b308-2aca-4b80-89bc-ddb770cfe076",
   "metadata": {},
   "outputs": [
    {
     "name": "stdin",
     "output_type": "stream",
     "text": [
      "Enter a0:  1\n",
      "Enter a1:  1\n"
     ]
    },
    {
     "name": "stdout",
     "output_type": "stream",
     "text": [
      " first 15 terms are:\n",
      "[1, 1, 2, 3, 5, 8, 13, 21, 34, 55, 89, 144, 233, 377, 610]\n"
     ]
    }
   ],
   "source": [
    "\n",
    "a0 = int(input(\"Enter a0: \"))\n",
    "a1 = int(input(\"Enter a1: \"))\n",
    "fib = [a0, a1]\n",
    "for i in range(2, 15):\n",
    "    next= fib[i - 1] + fib[i - 2]\n",
    "    fib.append(next)\n",
    "print(\" first 15 terms are:\")\n",
    "print(fib)\n"
   ]
  },
  {
   "cell_type": "markdown",
   "id": "bd1fe152-fa40-48b4-a141-0f23d8e82c14",
   "metadata": {},
   "source": [
    "6. Compute the first 30 terms of the sequence defined by 2xn+2 − xn+1 − 6xn = 0 sequence,\n",
    "given any two initial values x0 and x1"
   ]
  },
  {
   "cell_type": "code",
   "execution_count": 100,
   "id": "ce18de4d-3f62-4a64-bce4-f50fc51ee182",
   "metadata": {},
   "outputs": [
    {
     "name": "stdin",
     "output_type": "stream",
     "text": [
      "Enter x0:  1\n",
      "Enter x1:  1\n"
     ]
    },
    {
     "name": "stdout",
     "output_type": "stream",
     "text": [
      "The first 30 terms of the sequence are:\n",
      "[1.0, 1.0, 3.5, 4.75, 12.875, 20.6875, 48.96875, 86.546875, 190.1796875, 354.73046875, 747.904296875, 1438.1435546875, 2962.78466796875, 5795.822998046875, 11786.265502929688, 23280.60174560547, 46999.0973815918, 93341.3539276123, 187667.96910858154, 373858.0463371277, 749932.9304943085, 1496540.6042585373, 2998069.093612194, 5988656.359581709, 11988535.460627437, 23960236.809058845, 47945724.78641173, 95853572.8203824, 191763960.7694264, 383442698.84586036]\n"
     ]
    }
   ],
   "source": [
    "x0 = float(input(\"Enter x0: \"))\n",
    "x1 = float(input(\"Enter x1: \"))\n",
    "seq = [x0, x1]\n",
    "for n in range(2, 30):\n",
    "    next= (seq[n - 1] + 6 * seq[n - 2]) / 2\n",
    "    seq.append(next)\n",
    "print(\"The first 30 terms are:\")\n",
    "print(seq)\n"
   ]
  },
  {
   "cell_type": "markdown",
   "id": "62ee119d-5743-4133-bf52-89695bb0f293",
   "metadata": {},
   "source": [
    "7. a) Write python code to determine whether or not a year is a leap year. Be sure you\n",
    "know what a leap year is."
   ]
  },
  {
   "cell_type": "code",
   "execution_count": 104,
   "id": "7df0ad20-2ae6-429d-b4cb-b46000ad14f7",
   "metadata": {},
   "outputs": [
    {
     "name": "stdin",
     "output_type": "stream",
     "text": [
      "Enter a year:  2000\n"
     ]
    },
    {
     "name": "stdout",
     "output_type": "stream",
     "text": [
      "2000 is a leap year.\n"
     ]
    }
   ],
   "source": [
    "year = int(input(\"Enter a year: \"))\n",
    "if (year % 4 == 0 and year % 100 != 0) or (year % 400 == 0):\n",
    "    print(f\"{year} is a leap year.\")\n",
    "else:\n",
    "    print(f\"{year} is not a leap year.\")\n"
   ]
  },
  {
   "cell_type": "markdown",
   "id": "7660ae93-d82d-4ae0-9bee-23c6cd8ddf31",
   "metadata": {},
   "source": [
    "\n",
    "b) Write the code using only logical operators, i.e. no conditional branching."
   ]
  },
  {
   "cell_type": "code",
   "execution_count": 107,
   "id": "36e9e41f-3339-49d3-9d08-70852746b596",
   "metadata": {},
   "outputs": [
    {
     "name": "stdin",
     "output_type": "stream",
     "text": [
      "Enter a year:  23\n"
     ]
    },
    {
     "name": "stdout",
     "output_type": "stream",
     "text": [
      "23 is a leap year.\n"
     ]
    }
   ],
   "source": [
    "year = int(input(\"Enter a year: \"))\n",
    "is_leap = (year % 4 == 0) and (year % 100 != 0 or year % 400 == 0)\n",
    "print(f\"{year} is a leap year.\")"
   ]
  },
  {
   "cell_type": "markdown",
   "id": "436236b5-67ca-4f25-bdd5-08837e9c2fac",
   "metadata": {},
   "source": [
    "8. a) Write python code that computes the sum of the square of the first n natural numbers.\n",
    "One version with a \"for loop\" and another version with a \"while loop\"."
   ]
  },
  {
   "cell_type": "code",
   "execution_count": 133,
   "id": "9167d535-11c0-4e81-8828-e4f9f4431968",
   "metadata": {},
   "outputs": [
    {
     "name": "stdin",
     "output_type": "stream",
     "text": [
      "Enter a natural number n:  3\n"
     ]
    },
    {
     "name": "stdout",
     "output_type": "stream",
     "text": [
      "14\n"
     ]
    }
   ],
   "source": [
    "n = int(input(\"Enter a natural number n: \"))\n",
    "sum = 0\n",
    "for i in range(1, n+1):\n",
    "    sum += i ** 2\n",
    "print(sum)\n"
   ]
  },
  {
   "cell_type": "code",
   "execution_count": 134,
   "id": "a1b24bd4-1e3c-42c3-b1e3-39a5f4fcd427",
   "metadata": {},
   "outputs": [
    {
     "name": "stdin",
     "output_type": "stream",
     "text": [
      "Enter a natural number n:  3\n"
     ]
    },
    {
     "name": "stdout",
     "output_type": "stream",
     "text": [
      "14\n"
     ]
    }
   ],
   "source": [
    "n = int(input(\"Enter a natural number n: \"))\n",
    "sum= 0\n",
    "i = 1\n",
    "while i <= n:\n",
    "    sum += i ** 2\n",
    "    i += 1\n",
    "print(sum)\n"
   ]
  },
  {
   "cell_type": "markdown",
   "id": "80a04259-3cfe-4f18-9101-371b9265337a",
   "metadata": {},
   "source": [
    "b) Write python code that prints, for a natural number M, the smallest natural number\n",
    "n such that 1\n",
    "\n",
    "2 + 22 +· · ·+n\n",
    "\n",
    "2 ≥ M. One version with a \"for loop\" and another version\n",
    "\n",
    "with a \"while loop\"."
   ]
  },
  {
   "cell_type": "code",
   "execution_count": 119,
   "id": "4f57f80e-756d-42c3-9d28-76bd4d563627",
   "metadata": {},
   "outputs": [
    {
     "name": "stdin",
     "output_type": "stream",
     "text": [
      "Enter  natural number M:  21\n"
     ]
    },
    {
     "name": "stdout",
     "output_type": "stream",
     "text": [
      "3\n"
     ]
    }
   ],
   "source": [
    "M = int(input(\"Enter  natural number M: \"))\n",
    "sum = 0\n",
    "n = 0\n",
    "for i in range(1, M + 1):\n",
    "    sum += i ** 2\n",
    "    n = i\n",
    "    if sum >= M:\n",
    "        break\n",
    "print(n-1)\n"
   ]
  },
  {
   "cell_type": "code",
   "execution_count": 120,
   "id": "a63e5f46-de54-41c2-9e60-94046ebaef97",
   "metadata": {},
   "outputs": [
    {
     "name": "stdin",
     "output_type": "stream",
     "text": [
      "Enter a natural number M:  31\n"
     ]
    },
    {
     "name": "stdout",
     "output_type": "stream",
     "text": [
      "4\n"
     ]
    }
   ],
   "source": [
    "M = int(input(\"Enter a natural number M: \"))\n",
    "sum_of_squares = 0\n",
    "n = 1\n",
    "while sum_of_squares < M:\n",
    "    sum_of_squares += n ** 2\n",
    "    n += 1\n",
    "print(n-2)\n"
   ]
  },
  {
   "cell_type": "markdown",
   "id": "3e5b24af-09ba-4525-a74e-14a5097a0009",
   "metadata": {},
   "source": [
    "9. a) Write python code that prints all the divisors of a given natural number.\n"
   ]
  },
  {
   "cell_type": "code",
   "execution_count": 121,
   "id": "c3742c0b-5db9-4118-a564-9b4eedfa8e90",
   "metadata": {},
   "outputs": [
    {
     "name": "stdin",
     "output_type": "stream",
     "text": [
      "Enter natural number:  6\n"
     ]
    },
    {
     "name": "stdout",
     "output_type": "stream",
     "text": [
      "1\n",
      "2\n",
      "3\n",
      "6\n"
     ]
    }
   ],
   "source": [
    "n = int(input(\"Enter natural number: \"))\n",
    "for i in range(1,n+1):\n",
    "    if n % i == 0:\n",
    "        print(i)\n"
   ]
  },
  {
   "cell_type": "markdown",
   "id": "ba2d95df-2e24-4c96-bc39-3e0bf051af3e",
   "metadata": {},
   "source": [
    "\n",
    "b) Read an integer number input by the user and calculate its prime factors. This will\n",
    "just be some of its divisors."
   ]
  },
  {
   "cell_type": "code",
   "execution_count": 123,
   "id": "bc2cedf5-76f2-4b1a-85a4-f0616a116bb6",
   "metadata": {},
   "outputs": [
    {
     "name": "stdout",
     "output_type": "stream",
     "text": [
      "1\n",
      "2\n",
      "3\n",
      "6\n"
     ]
    },
    {
     "name": "stdin",
     "output_type": "stream",
     "text": [
      "Enter an integer number:  3\n",
      "Enter natural number:  3\n"
     ]
    }
   ],
   "source": [
    "def prime_factors(n):\n",
    "    n = int(input(\"Enter natural number: \"))\n",
    "for i in range(1,n+1):\n",
    "    if n % i == 0:\n",
    "        print(i)\n",
    "prime_factos(num)\n"
   ]
  },
  {
   "cell_type": "markdown",
   "id": "337c37cd-2e42-4fc3-884d-ba4cc496b3f9",
   "metadata": {},
   "source": [
    "10. Read an integer number between n 0 and 9 and print its multiplication table up to N\n",
    "where N is another another natural number read by the program."
   ]
  },
  {
   "cell_type": "code",
   "execution_count": 124,
   "id": "efefc832-6ba0-41b3-95b6-73eba48cbd50",
   "metadata": {},
   "outputs": [
    {
     "name": "stdin",
     "output_type": "stream",
     "text": [
      "Enter a number between 0 and 9:  8\n",
      "Enter a natural number N:  2\n"
     ]
    },
    {
     "name": "stdout",
     "output_type": "stream",
     "text": [
      "Multiplication table for 8 up to 2:\n",
      "8 x 1 = 8\n",
      "8 x 2 = 16\n"
     ]
    }
   ],
   "source": [
    "number = int(input(\"Enter number between 0 and 9: \"))\n",
    "\n",
    "if 0 <= number <= 9:\n",
    "    N = int(input(\"Enter a natural number N: \"))\n",
    "    print(f\"Multiplication table of {number} up to {N}:\")\n",
    "    for i in range(1, N + 1):\n",
    "        print(f\"{number} x {i} = {number * i}\")\n",
    "else:\n",
    "    print(\"are you kidding !Please enter a valid number between 0 and 9.\")\n"
   ]
  },
  {
   "cell_type": "markdown",
   "id": "dc2379f0-8e2c-46b8-86e5-3d090758b9c4",
   "metadata": {},
   "source": [
    "Write a program that prints all the numbers between 0 and 40 that are multiples of 3, 7\n",
    "or 11."
   ]
  },
  {
   "cell_type": "code",
   "execution_count": 125,
   "id": "e1d313d9-496a-4639-a888-476332287c11",
   "metadata": {},
   "outputs": [
    {
     "name": "stdout",
     "output_type": "stream",
     "text": [
      "0\n",
      "3\n",
      "6\n",
      "7\n",
      "9\n",
      "11\n",
      "12\n",
      "14\n",
      "15\n",
      "18\n",
      "21\n",
      "22\n",
      "24\n",
      "27\n",
      "28\n",
      "30\n",
      "33\n",
      "35\n",
      "36\n",
      "39\n"
     ]
    }
   ],
   "source": [
    "for number in range(41):\n",
    "    if number % 3 == 0 or number % 7 == 0 or number % 11 == 0:\n",
    "        print(number)\n"
   ]
  },
  {
   "cell_type": "markdown",
   "id": "1264a167-9099-4d22-bd60-31c91842c576",
   "metadata": {},
   "source": [
    "Write python code that prints the floor of a float x. Recall that the floor of a float x is the\n",
    "largest integer value less than or equal to x, i.e. if E[x] is the floor of x, then it satisfies,\n",
    "\n",
    "E[x] = 1 + E[x − 1]\n",
    "\n",
    "PS: On Friday, you will be asked to write a recursive version of the above program."
   ]
  },
  {
   "cell_type": "code",
   "execution_count": 131,
   "id": "f3eee88f-cd6f-46e4-bf2e-ef212d51bc01",
   "metadata": {},
   "outputs": [
    {
     "name": "stdin",
     "output_type": "stream",
     "text": [
      "Enter a float number:  3.6\n"
     ]
    },
    {
     "name": "stdout",
     "output_type": "stream",
     "text": [
      "3\n"
     ]
    }
   ],
   "source": [
    "def recursive(x):\n",
    "    if x < 1:\n",
    "        return 0\n",
    "    else:\n",
    "        return 1 +recursive(x - 1)\n",
    "x = float(input(\"Enter a float number: \"))\n",
    "floor= recursive(x)\n",
    "print(floor)\n"
   ]
  },
  {
   "cell_type": "markdown",
   "id": "1279cd59-8771-43c0-a730-c5ce76245794",
   "metadata": {},
   "source": [
    "Given a point in the plane by its Cartesian coordinates, determine in which quadrant it is\n",
    "(1st, 2nd, 3rd, 4th), if it lies on an axis, or if it is the origin. Do this for several points in\n",
    "the same execution of the program until the user quits."
   ]
  },
  {
   "cell_type": "code",
   "execution_count": 132,
   "id": "c309a06d-a7bd-4408-8c63-872f66e29c91",
   "metadata": {},
   "outputs": [],
   "source": [
    "def determine_quadrant(x, y):\n",
    "    if x == 0 and y == 0:\n",
    "        return \"The point is at the origin.\"\n",
    "    elif x == 0:\n",
    "        return \"The point is on the Y-axis.\"\n",
    "    elif y == 0:\n",
    "        return \"The point is on the X-axis.\"\n",
    "    elif x > 0 and y > 0:\n",
    "        return \"The point is in the 1st quadrant.\"\n",
    "    elif x < 0 and y > 0:\n",
    "        return \"The point is in the 2nd quadrant.\"\n",
    "    elif x < 0 and y < 0:\n",
    "        return \"The point is in the 3rd quadrant.\"\n",
    "    elif x > 0 and y < 0:\n",
    "        return \"The point is in the 4th quadrant.\""
   ]
  },
  {
   "cell_type": "code",
   "execution_count": null,
   "id": "539c4f5d-7e66-4998-aff3-6da48ddfbf0d",
   "metadata": {},
   "outputs": [],
   "source": []
  }
 ],
 "metadata": {
  "kernelspec": {
   "display_name": "Python 3 (ipykernel)",
   "language": "python",
   "name": "python3"
  },
  "language_info": {
   "codemirror_mode": {
    "name": "ipython",
    "version": 3
   },
   "file_extension": ".py",
   "mimetype": "text/x-python",
   "name": "python",
   "nbconvert_exporter": "python",
   "pygments_lexer": "ipython3",
   "version": "3.11.7"
  }
 },
 "nbformat": 4,
 "nbformat_minor": 5
}
