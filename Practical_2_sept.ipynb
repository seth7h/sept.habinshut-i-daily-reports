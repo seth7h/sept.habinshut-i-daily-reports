{
 "cells": [
  {
   "cell_type": "markdown",
   "id": "d68c1dee",
   "metadata": {},
   "source": [
    "# Practical_2: String and files"
   ]
  },
  {
   "cell_type": "code",
   "execution_count": 1,
   "id": "dcf6ca38",
   "metadata": {},
   "outputs": [
    {
     "name": "stdout",
     "output_type": "stream",
     "text": [
      "Python is amazing!\n"
     ]
    }
   ],
   "source": [
    "\n",
    "### Exercise 1: Create a string variable `text` and assign it the value `\"Python is amazing!\"`.\n",
    "text=\"Python is amazing!\"\n",
    "print(text)"
   ]
  },
  {
   "cell_type": "code",
   "execution_count": 3,
   "id": "ca3235c3-859a-478f-9d48-273d027f9068",
   "metadata": {},
   "outputs": [
    {
     "name": "stdout",
     "output_type": "stream",
     "text": [
      "13\n"
     ]
    }
   ],
   "source": [
    "\n",
    "### Exercise 2: Find the length of the string `\"Hello, World!\"` and store it in a variable `length`.\n",
    "print(len(\"Hello, World!\"))"
   ]
  },
  {
   "cell_type": "code",
   "execution_count": 5,
   "id": "ad99ae5a-5697-4d5a-a072-838ace0576c8",
   "metadata": {},
   "outputs": [
    {
     "data": {
      "text/plain": [
       "'PYTHON PROGRAMMING'"
      ]
     },
     "execution_count": 5,
     "metadata": {},
     "output_type": "execute_result"
    }
   ],
   "source": [
    "### Exercise 3:Convert the string `\"python programming\"` to uppercase and store it in a variable `upper_text`.\n",
    "\n",
    "\"python programming\".upper()"
   ]
  },
  {
   "cell_type": "code",
   "execution_count": 6,
   "id": "09a54cf3-fb43-45b5-8bcd-f3976a5f2ab0",
   "metadata": {},
   "outputs": [
    {
     "name": "stdout",
     "output_type": "stream",
     "text": [
      "Artif\n"
     ]
    }
   ],
   "source": [
    "## Exercise 4: Extract the first 5 characters from the string `\"Artificial Intelligence\"`\n",
    "a=\"Artificial Intelligence\"\n",
    "print(a[0:5])\n",
    "\n"
   ]
  },
  {
   "cell_type": "code",
   "execution_count": 7,
   "id": "f911993a-40fa-4b19-a392-9c3c655c734b",
   "metadata": {},
   "outputs": [
    {
     "name": "stdout",
     "output_type": "stream",
     "text": [
      "Hello world\n"
     ]
    }
   ],
   "source": [
    "\n",
    "### Exercise 5:Concatenate the strings `\"Hello\"` and `\"World\"` with a space in between.\n",
    "\n",
    "print(\"Hello\"+\" \"\"world\")"
   ]
  },
  {
   "cell_type": "code",
   "execution_count": 8,
   "id": "8b67fb98-e4c5-4e8d-bdbd-5c806aa6a8ad",
   "metadata": {},
   "outputs": [
    {
     "data": {
      "text/plain": [
       "'The quick brown cat jumps over the lazy cat.'"
      ]
     },
     "execution_count": 8,
     "metadata": {},
     "output_type": "execute_result"
    }
   ],
   "source": [
    "### Exercise 6:Replace the word `\"dog\"` with `\"cat\"` in the string `\"The quick brown dog jumps over the lazy dog.\"`.\n",
    "\"The quick brown dog jumps over the lazy dog.\".replace(\"dog\",\"cat\")"
   ]
  },
  {
   "cell_type": "code",
   "execution_count": 15,
   "id": "b49804f4-3f46-4929-ab35-79533a9234ee",
   "metadata": {},
   "outputs": [
    {
     "data": {
      "text/plain": [
       "['apple', 'banana', 'orange']"
      ]
     },
     "execution_count": 15,
     "metadata": {},
     "output_type": "execute_result"
    }
   ],
   "source": [
    "### Exercise 7: Split the string `\"apple,banana,orange\"` by commas and store the result in a list `fruits_list`.\n",
    "\"apple,banana,orange\".split(\",\")\n"
   ]
  },
  {
   "cell_type": "code",
   "execution_count": 16,
   "id": "b77b5465-46cb-40ac-a170-68dd5653c2d4",
   "metadata": {},
   "outputs": [
    {
     "name": "stdout",
     "output_type": "stream",
     "text": [
      "My name is Alice and I am 25 years old\n"
     ]
    }
   ],
   "source": [
    "\n",
    "### Exercise 8: Use string formatting to create the sentence `\"My name is Alice and I am 25 years old.\"`, where the name and age are variables.\n",
    "name=\"Alice\"\n",
    "age=25\n",
    "print(\"My name is \"+name+\" and I am \"+str(age) +\" years old\")"
   ]
  },
  {
   "cell_type": "code",
   "execution_count": 20,
   "id": "33eb91d1-917f-4f5d-bfd0-5141a90e6f1b",
   "metadata": {},
   "outputs": [
    {
     "name": "stdout",
     "output_type": "stream",
     "text": [
      "True\n"
     ]
    }
   ],
   "source": [
    "### Exercise 9: Check if the string `\"python\"` is present in the sentence `\"I love python programming\"`.\n",
    "\n",
    "a=\"I love python programming\"\n",
    "print(\"python\"in a)"
   ]
  },
  {
   "cell_type": "code",
   "execution_count": 42,
   "id": "59b27494-2c2f-4d98-9b0b-19eb470bd998",
   "metadata": {},
   "outputs": [
    {
     "data": {
      "text/plain": [
       "3"
      ]
     },
     "execution_count": 42,
     "metadata": {},
     "output_type": "execute_result"
    }
   ],
   "source": [
    "### Exercise 10: Count the number of occurrences of the letter `\"e\"` in the string `\"Elephant is an elegant animal\"`.\n",
    "\n",
    "\"Elephant is an elegant animal\".count(\"e\")"
   ]
  },
  {
   "cell_type": "code",
   "execution_count": 25,
   "id": "914d0a1c-b25e-48b3-bc1e-f7e6609f8f9b",
   "metadata": {},
   "outputs": [
    {
     "data": {
      "text/plain": [
       "'Data Science'"
      ]
     },
     "execution_count": 25,
     "metadata": {},
     "output_type": "execute_result"
    }
   ],
   "source": [
    "### Exercise 11: Remove any leading and trailing spaces from the string `\"   Data Science   \"`.\n",
    "\n",
    "a=\"   Data Science   \"\n",
    "a.replace(\"   D\",\"D\")\n",
    "a.replace(\"e   \",\"e\")\n",
    "\"   Data Science   \".strip()"
   ]
  },
  {
   "cell_type": "code",
   "execution_count": 26,
   "id": "69bed14e-9842-47f9-9851-31af713d38eb",
   "metadata": {},
   "outputs": [
    {
     "name": "stdout",
     "output_type": "stream",
     "text": [
      "100\n"
     ]
    }
   ],
   "source": [
    "### Exercise 12: Convert the string `\"100\"` into an integer and store it in a variable `int_value`.\n",
    "int_value=\"100\"\n",
    "print(str(int_value))"
   ]
  },
  {
   "cell_type": "code",
   "execution_count": 28,
   "id": "e906ed72-56ad-4d22-bf45-8ac33cc59f31",
   "metadata": {},
   "outputs": [
    {
     "name": "stdout",
     "output_type": "stream",
     "text": [
      "pro\n"
     ]
    }
   ],
   "source": [
    "### Exercise 13:Extract the substring `\"pro\"` from the string `\"programming\"`.\n",
    "\n",
    "a=\"programming\"\n",
    "print(a[0:3])"
   ]
  },
  {
   "cell_type": "code",
   "execution_count": 37,
   "id": "08f6ba69-003c-4399-887b-ad1173a03eb8",
   "metadata": {},
   "outputs": [
    {
     "data": {
      "text/plain": [
       "True"
      ]
     },
     "execution_count": 37,
     "metadata": {},
     "output_type": "execute_result"
    }
   ],
   "source": [
    "### Exercise 14:Check if the string `\"data\"` starts with `\"da\"` and ends with `\"ta\"`.\n",
    "\"data\".startswith(\"da\") and \"data\".endswith(\"ta\")"
   ]
  },
  {
   "cell_type": "code",
   "execution_count": 47,
   "id": "8c33d4ac-8a7b-420e-8c71-a0071cd736d6",
   "metadata": {},
   "outputs": [
    {
     "name": "stdout",
     "output_type": "stream",
     "text": [
      "gninrael enihcam\n"
     ]
    }
   ],
   "source": [
    "### Exercise 15: Reverse the string `\"machine learning\"` and store the result in `reversed_text`.\n",
    "\n",
    "a=\"machine learning\"\n",
    "print(a[::-1])"
   ]
  },
  {
   "cell_type": "code",
   "execution_count": 50,
   "id": "6580c9ab-1877-45d9-9f3a-cba0dc7bed2d",
   "metadata": {},
   "outputs": [
    {
     "data": {
      "text/plain": [
       "'Machine Learning Is Fun'"
      ]
     },
     "execution_count": 50,
     "metadata": {},
     "output_type": "execute_result"
    }
   ],
   "source": [
    "### Exercise 16:Convert the first letter of each word in the string `\"machine learning is fun\"` to uppercase.\n",
    "\"machine learning is fun\".title()"
   ]
  },
  {
   "cell_type": "code",
   "execution_count": 52,
   "id": "f2ab847a-ca73-4230-8697-da3cd5a8f849",
   "metadata": {},
   "outputs": [
    {
     "name": "stdout",
     "output_type": "stream",
     "text": [
      "one day sun will rise,\n",
      "and sound will be raised from desert,\n",
      "and family will be proud of you\n"
     ]
    }
   ],
   "source": [
    "\n",
    "### Exercise 17: Create a multiline string representing a poem and store it in a variable `poem`.\n",
    "poem = \"\"\"one day sun will rise,\n",
    "and sound will be raised from desert,\n",
    "and family will be proud of you\"\"\"\n",
    "print(poem)\n",
    "\n"
   ]
  },
  {
   "cell_type": "code",
   "execution_count": 64,
   "id": "0c62c374-3e45-4f57-bdb7-bfa75bb5aec1",
   "metadata": {},
   "outputs": [],
   "source": [
    "### Exercise 18: Write a string to a file named `\"output.txt\"`.\n",
    "text = \"ne day sun will rise,nd sound will be raised from desert,and family will be proud of \"\n",
    "with open(\"output.txt\", \"w\") as file:\n",
    "    file.write(text)\n"
   ]
  },
  {
   "cell_type": "code",
   "execution_count": 65,
   "id": "75128155-3f55-4390-b36c-c541a1cee95e",
   "metadata": {},
   "outputs": [
    {
     "name": "stdout",
     "output_type": "stream",
     "text": [
      "ne day sun will rise,nd sound will be raised from desert,and family will be proud of\n"
     ]
    }
   ],
   "source": [
    "\n",
    "### Exercise 19:Read the contents of a file named `\"data.txt\"` and print it line by line.\n",
    "with open(\"output.txt\", \"r\") as file: \n",
    "    for line in file: \n",
    "        print(line.strip())  "
   ]
  },
  {
   "cell_type": "code",
   "execution_count": null,
   "id": "8e1fad29-9cd4-4881-942b-a2c869308c1a",
   "metadata": {},
   "outputs": [],
   "source": [
    "with open(\"notes.txt\", \"a\") as file:\n",
    "    file.write(\"This is a new line\\n\")"
   ]
  },
  {
   "cell_type": "code",
   "execution_count": 66,
   "id": "8cac1a4b-f7d3-4d04-8996-6bb146328c36",
   "metadata": {},
   "outputs": [],
   "source": [
    "### Exercise 23: Create a new file `\"report.txt\"` and write the string `\"Data analysis report\"` to it.\n",
    "text = \"Data analysis report\"\n",
    "with open(\"report.txt\", \"w\") as file:\n",
    "    file.write(text)"
   ]
  },
  {
   "cell_type": "code",
   "execution_count": null,
   "id": "de14f0e8-e5e6-4fc6-b5a8-721ba6eda3ac",
   "metadata": {},
   "outputs": [],
   "source": [
    "### Exercise 20: Check if a file `\"example.txt\"` exists before opening it."
   ]
  },
  {
   "cell_type": "markdown",
   "id": "bea983a3",
   "metadata": {
    "jp-MarkdownHeadingCollapsed": true
   },
   "source": [
    "\n",
    "### Exercise 20:\n",
    "Check if a file `\"example.txt\"` exists before opening it.\n",
    "\n",
    "```python\n",
    "# Exercise 20\n",
    "```\n",
    "\n",
    "---\n",
    "\n",
    "### Exercise 21:\n",
    "Append a new line `\"This is a new line\"` to an existing file `\"notes.txt\"`.\n",
    "\n",
    "```python\n",
    "# Exercise 21\n",
    "```\n",
    "\n",
    "---\n",
    "\n",
    "### Exercise 22:\n",
    "Read the contents of a file `\"log.txt\"` and store each line in a list `log_lines`.\n",
    "\n",
    "```python\n",
    "# Exercise 22\n",
    "```\n",
    "\n",
    "---\n",
    "\n",
    "### Exercise 23:\n",
    "Create a new file `\"report.txt\"` and write the string `\"Data analysis report\"` to it.\n",
    "\n",
    "```python\n",
    "# Exercise 23\n",
    "```\n",
    "\n",
    "---\n",
    "\n",
    "### Exercise 24:\n",
    "Replace the word `\"error\"` with `\"issue\"` in a file `\"log.txt\"`.\n",
    "\n",
    "```python\n",
    "# Exercise 24\n",
    "```\n",
    "\n",
    "---\n",
    "\n",
    "### Exercise 25:\n",
    "Count the number of words in a text file `\"document.txt\"`.\n",
    "\n",
    "```python\n",
    "# Exercise 25\n",
    "```\n",
    "\n",
    "---\n",
    "\n",
    "### Exercise 26:\n",
    "Write a Python script that reads a file `\"essay.txt\"` and prints the total number of lines, words, and characters.\n",
    "\n",
    "```python\n",
    "# Exercise 26\n",
    "```\n",
    "\n",
    "---\n",
    "\n",
    "### Exercise 27:\n",
    "Copy the contents of one file `\"source.txt\"` to another file `\"destination.txt\"`.\n",
    "\n",
    "```python\n",
    "# Exercise 27\n",
    "```\n",
    "\n",
    "---\n",
    "\n",
    "### Exercise 28:\n",
    "Write a Python function that takes a filename as input and returns the number of lines in the file.\n",
    "\n",
    "```python\n",
    "# Exercise 28\n",
    "```\n",
    "\n",
    "---\n",
    "\n",
    "### Exercise 29:\n",
    "Extract all the words from a text file `\"article.txt\"` that contain more than 5 characters.\n",
    "\n",
    "```python\n",
    "# Exercise 29\n",
    "```\n",
    "\n",
    "---\n",
    "\n",
    "### Exercise 30:\n",
    "Convert the contents of a file `\"notes.txt\"` to uppercase and save the result in another file `\"uppercase_notes.txt\"`.\n",
    "\n",
    "```python\n",
    "# Exercise 30\n",
    "```\n",
    "\n",
    "---\n",
    "\n",
    "### Exercise 31:\n",
    "Write a Python script that reads a file and removes all empty lines.\n",
    "\n",
    "```python\n",
    "# Exercise 31\n",
    "```\n",
    "\n",
    "---\n",
    "\n",
    "### Exercise 32:\n",
    "Open a file `\"config.txt\"` in both read and write mode.\n",
    "\n",
    "```python\n",
    "# Exercise 32\n",
    "```\n",
    "\n",
    "---\n",
    "\n",
    "### Exercise 33:\n",
    "Write a Python function that reads a file and prints the longest line in the file.\n",
    "\n",
    "```python\n",
    "# Exercise 33\n",
    "```\n",
    "\n",
    "---\n",
    "\n",
    "### Exercise 34:\n",
    "Write a Python script to count the frequency of each letter in a text file `\"message.txt\"`.\n",
    "\n",
    "```python\n",
    "# Exercise 34\n",
    "```\n",
    "\n",
    "---\n",
    "\n",
    "### Exercise 35:\n",
    "Write a Python script that reads a file and prints the total number of characters, excluding spaces.\n",
    "\n",
    "```python\n",
    "# Exercise 35\n",
    "```\n",
    "\n",
    "---\n",
    "\n",
    "### Exercise 36:\n",
    "Create a Python script to check whether a file is empty or not.\n",
    "\n",
    "```python\n",
    "# Exercise 36\n",
    "```\n",
    "\n",
    "---\n",
    "\n",
    "### Exercise 37:\n",
    "Write a Python function that reads a file and removes all punctuation marks from the text.\n",
    "\n",
    "```python\n",
    "# Exercise 37\n",
    "```\n",
    "\n",
    "---\n",
    "\n",
    "### Exercise 38:\n",
    "Create a Python function that writes a list of strings to a file, each string on a new line.\n",
    "\n",
    "```python\n",
    "# Exercise 38\n",
    "```\n",
    "\n",
    "---\n",
    "\n",
    "### Exercise 39:\n",
    "Write a Python script to count the number of lines that start with a specific letter (e.g., \"A\") in a text file.\n",
    "\n",
    "```python\n",
    "# Exercise 39\n",
    "```\n",
    "\n",
    "---\n",
    "\n",
    "### Exercise 40:\n",
    "Write a Python function that takes a string as input and writes it to a file `\"output.txt\"` in reverse order.\n",
    "\n",
    "```python\n",
    "# Exercise 40\n",
    "```\n",
    "\n",
    "---\n",
    "\n",
    "### Exercise 41:\n",
    "Write a Python script that reads a file and prints all the lines that contain the word `\"Python\"`.\n",
    "\n",
    "```python\n",
    "# Exercise 41\n",
    "```\n",
    "\n",
    "---\n",
    "\n",
    "### Exercise 42:\n",
    "Write a Python script that opens a file and removes all numeric digits from the file's content.\n",
    "\n",
    "```python\n",
    "# Exercise 42\n",
    "```\n",
    "\n",
    "---\n",
    "\n",
    "### Exercise 43:\n",
    "Write a Python script to find the most frequent word in a text file `\"book.txt\"`.\n",
    "\n",
    "```python\n",
    "# Exercise 43\n",
    "```\n",
    "\n",
    "---\n",
    "\n",
    "### Exercise 44:\n",
    "Write a Python script that reads a file and prints all the lines that contain exactly 5 words.\n",
    "\n",
    "```python\n",
    "# Exercise 44\n",
    "```\n",
    "\n",
    "---\n",
    "\n",
    "### Exercise 45:\n",
    "Write a Python script to read a file and print the first and last line of the file.\n",
    "\n",
    "```python\n",
    "# Exercise 45\n",
    "```\n",
    "\n",
    "---\n",
    "\n",
    "### Exercise 46:\n",
    "Write a Python script that checks if a file `\"students.txt\"` is writable.\n",
    "\n",
    "```python\n",
    "# Exercise 46\n",
    "```\n",
    "\n",
    "---\n",
    "\n",
    "### Exercise 47:\n",
    "Create a Python function that opens a file and returns the number of unique words in the file.\n",
    "\n",
    "```python\n",
    "# Exercise 47\n",
    "```\n",
    "\n",
    "---\n",
    "\n",
    "### Exercise 48:\n",
    "Write a Python script that reads a file and prints all lines in reverse order.\n",
    "\n",
    "```python\n",
    "# Exercise 48\n",
    "```\n",
    "\n",
    "---\n",
    "\n",
    "### Exercise 49:\n",
    "Write a Python function that reads a file and returns the most common letter in the text.\n",
    "\n",
    "```python\n",
    "# Exercise 49\n",
    "```\n",
    "\n",
    "---\n",
    "\n",
    "### Exercise 50:\n",
    "Write a Python script that reads a file and replaces every occurrence of `\"Python\"` with `\"Java\"`.\n",
    "\n",
    "```python\n",
    "# Exercise 50\n",
    "```\n",
    "\n",
    "---\n",
    "\n"
   ]
  },
  {
   "cell_type": "code",
   "execution_count": null,
   "id": "3a632898-a558-4a3a-aa07-242f0f9d6273",
   "metadata": {},
   "outputs": [],
   "source": [
    "\n",
    "### Exercise 50: Write a Python script that reads a file and replaces every occurrence of `\"Python\"` with `\"Java\"`.\n",
    "\n",
    "# Exercise 50"
   ]
  }
 ],
 "metadata": {
  "kernelspec": {
   "display_name": "Python 3 (ipykernel)",
   "language": "python",
   "name": "python3"
  },
  "language_info": {
   "codemirror_mode": {
    "name": "ipython",
    "version": 3
   },
   "file_extension": ".py",
   "mimetype": "text/x-python",
   "name": "python",
   "nbconvert_exporter": "python",
   "pygments_lexer": "ipython3",
   "version": "3.11.7"
  }
 },
 "nbformat": 4,
 "nbformat_minor": 5
}
