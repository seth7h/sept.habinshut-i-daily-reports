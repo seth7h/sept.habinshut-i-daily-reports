{
 "cells": [
  {
   "cell_type": "markdown",
   "metadata": {},
   "source": [
    "# Lecture 4: Flow control "
   ]
  },
  {
   "cell_type": "markdown",
   "metadata": {},
   "source": [
    "### <left> <b> <span style=\"color:brown;\"> Objective: </span> </b></left>\n",
    "\n",
    "This lecture aims to introduce `flow control` mechanisms in Python, focusing on `conditional statements`, `loops`, and `exception handling`. We will review essential constructs like `if`, `else`, and `elif` for decision-making, as well as `for` and `while` loops for iteration.\n",
    "****"
   ]
  },
  {
   "cell_type": "markdown",
   "metadata": {},
   "source": [
    "**Flow control** in Python is essential for directing the flow of a program's execution, enabling dynamic and adaptable behavior. `Conditional statements`, such as `if`, `elif`, and `else`, allow you to execute different blocks of code based on specific conditions, facilitating complex decision-making processes. `Loops`, including `for` and `while`, provide mechanisms for repeating code execution, which is invaluable for tasks that involve processing collections of data or performing actions multiple times. Mastering these flow control constructs is key to writing efficient, readable, and flexible code, as they allow you to tailor your program's behavior to meet varying conditions and requirements."
   ]
  },
  {
   "cell_type": "markdown",
   "metadata": {},
   "source": [
    "## 0. Conditional Structure\n",
    "\n",
    "### 0.0. Instructions with the if...else clause\n",
    "\n",
    "Conditional statements are operations that the program executes when a logical expression evaluates to `True` or `False` (depending on the case). Conditional statements are defined within an `if...else` clause.\n",
    "\n",
    "The general structure of an `if...else` block is as follows:\n",
    "\n",
    "```python\n",
    "if logical_expression:\n",
    "    statement1\n",
    "    statement2\n",
    "    ...\n",
    "    statementn\n",
    "else:\n",
    "    other_block_of_statements\n",
    "```\n",
    "\n",
    "Note the `:` symbol following the `if` or `else` keyword, which indicates the end of the `if` or `else` declaration and the beginning of the statement definitions. Also, note that the `else` clause is optional, meaning there can be an `if` clause without an `else` clause.\n",
    "\n",
    "It is crucial to observe the essential role of *indentation*, which delineates each block of statements, and the presence of colons after the condition and after the `else` keyword."
   ]
  },
  {
   "cell_type": "code",
   "execution_count": 7,
   "metadata": {},
   "outputs": [
    {
     "ename": "SyntaxError",
     "evalue": "invalid syntax (2340666673.py, line 14)",
     "output_type": "error",
     "traceback": [
      "\u001b[0;36m  File \u001b[0;32m\"/tmp/ipykernel_104569/2340666673.py\"\u001b[0;36m, line \u001b[0;32m14\u001b[0m\n\u001b[0;31m    else\u001b[0m\n\u001b[0m        ^\u001b[0m\n\u001b[0;31mSyntaxError\u001b[0m\u001b[0;31m:\u001b[0m invalid syntax\n"
     ]
    }
   ],
   "source": [
    "# Instructions with a simple \"if\" clause\n",
    "a = 150\n",
    "if (a > 100):\n",
    "    print(\"a exceeds 100\")\n",
    "\n",
    "print(\"================================================\")\n",
    "print('\\t')\n",
    "\n",
    "\n",
    "# Instructions with the if...else clause\n",
    "x = 65\n",
    "if (x > 70):\n",
    "    print(\"x exceeds 70\")\n",
    "else:\n",
    "    print(\"x does not exceed 100\")\n"
   ]
  },
  {
   "cell_type": "markdown",
   "metadata": {},
   "source": [
    "### 0.1. Instructions with the if...elif...else clause\n",
    "\n",
    "The `if...elif...else` clause is used when there are multiple logical conditions, each associated with instructions to execute when they are met.\n",
    "\n",
    "```python\n",
    "    x = 0\n",
    "    if x > 0 :\n",
    "        print(\"x is positive\")\n",
    "    elif x < 0 :\n",
    "        print(\"x is negative\")\n",
    "    else:\n",
    "        print(\"x is zero\")\n",
    "```"
   ]
  },
  {
   "cell_type": "code",
   "execution_count": 13,
   "metadata": {},
   "outputs": [
    {
     "name": "stdout",
     "output_type": "stream",
     "text": [
      "x is positive\n"
     ]
    }
   ],
   "source": [
    "x = 0\n",
    "if x >= 0 :\n",
    "    print(\"x is positive\")\n",
    "elif x < 0 :\n",
    "    print(\"x is negative\")\n",
    "else:\n",
    "        print(\"x is zero\")"
   ]
  },
  {
   "cell_type": "markdown",
   "metadata": {},
   "source": [
    "**Note:** As demonstrated by the example above, the `elif` clause can be used as many times as there are alternative conditions between the initial `if` clause and the final `else` clause. However, using `elif` is not mandatory for handling alternative conditions. You can simply use additional `if` clauses instead."
   ]
  },
  {
   "cell_type": "markdown",
   "metadata": {},
   "source": [
    "### 0.2. Defining nested `if` clauses**\n",
    "\n",
    "The previous examples illustrate first-level `if` clauses. In complex programs, it is very common to have nested `if` clauses, meaning that `if` clauses are defined inside other `if` clauses, sometimes at multiple levels. See the example below:\n",
    "\n",
    "```python\n",
    "a = 15\n",
    "b = 10\n",
    "\n",
    "if a > b:\n",
    "    print(\"a is greater than b\")\n",
    "    if a - b > 5:\n",
    "        print(\"The difference between a and b is greater than 5\")\n",
    "    else:\n",
    "        print(\"The difference between a and b is 5 or less\")\n",
    "else:\n",
    "    print(\"a is not greater than b\")\n",
    "```\n",
    "\n",
    "In this example, there is an `if` statement nested within another `if` statement. This structure allows for more granular control over the conditions and the corresponding actions in your program.\n"
   ]
  },
  {
   "cell_type": "code",
   "execution_count": 16,
   "metadata": {},
   "outputs": [
    {
     "name": "stdout",
     "output_type": "stream",
     "text": [
      "a is not greater than b\n"
     ]
    }
   ],
   "source": [
    "a = 5\n",
    "b = 5\n",
    "\n",
    "if a > b:\n",
    "    print(\"a is greater than b\")\n",
    "    if a - b > 5:\n",
    "        print(\"The difference between a and b is greater than 5\")\n",
    "    else:\n",
    "        print(\"The difference between a and b is 5 or less\")\n",
    "else:\n",
    "    print(\"a is not greater than b\")"
   ]
  },
  {
   "cell_type": "code",
   "execution_count": 17,
   "metadata": {},
   "outputs": [
    {
     "name": "stdout",
     "output_type": "stream",
     "text": [
      "La classification des animaux est complexe\n"
     ]
    }
   ],
   "source": [
    "embranchement = \"yyry\"\n",
    "if embranchement == \"vertébrés\":\n",
    "    if classe == \"mammifères\":\n",
    "        if ordre == \"carnivores\":\n",
    "            if famille == \"félins\":\n",
    "                print(\"Il s’agit peut-être d’un chat\")\n",
    "        print(\"C’est en tous cas un mammifère\")\n",
    "    elif classe == \"oiseaux\":\n",
    "        print(\"c’est peut-être un canari\")\n",
    "print(\"La classification des animaux est complexe\")                "
   ]
  },
  {
   "cell_type": "markdown",
   "metadata": {},
   "source": [
    "## 1. Loop Instructions\n",
    "\n",
    "In Python, there are two main types of loop instructions:\n",
    "\n",
    "1. **`while...` loops**: These loops execute a block of code repeatedly as long as a specified condition remains `True`. They are useful when the number of iterations is not known in advance and depends on dynamic conditions evaluated during execution.\n",
    "\n",
    "2. **`for... in...` loops**: These loops iterate over a sequence (such as a list, tuple, or string) or other iterable objects. They are ideal for iterating through known sequences or ranges of values, allowing for clear and concise iteration over collections or ranges.\n",
    "\n",
    "Both types of loops are fundamental for controlling the flow of execution and repeating tasks efficiently in Python programs.\n",
    "\n",
    "\n",
    "###  1.0. while... loops\n",
    "\n",
    "After introducing conditional structures, we turn our attention to loop structures: these structures allow a block of instructions to be executed multiple times. These repetitions fall into two categories:\n",
    "\n",
    "- **Conditional repetitions**: The block of instructions is repeated as long as a condition is true.\n",
    "\n",
    "- **Unconditional repetitions**: The block of instructions is repeated a specified number of times.\n",
    "\n",
    "The general syntax for defining `while` loop instructions is as follows:\n",
    "\n",
    "```python\n",
    "   Initialize increment variable\n",
    "   while condition:\n",
    "        block_of_instructions\n",
    "        increment\n",
    "```\n",
    "\n",
    "As with the `if` structure, the condition is first evaluated, and if it is true, the block of instructions is executed. However, with the `while` loop, after executing the block of instructions, the condition is evaluated again. This process repeats until the condition becomes false. Therefore, it is essential to define an increment variable whose value changes after each execution so that the condition can eventually become false. This increment is necessary to prevent the instructions from being evaluated indefinitely, creating an infinite loop (or endless loop). Such a situation requires forcibly stopping the program's execution."
   ]
  },
  {
   "cell_type": "code",
   "execution_count": 22,
   "metadata": {},
   "outputs": [
    {
     "name": "stdout",
     "output_type": "stream",
     "text": [
      "The value of x is  11\n",
      "The value of x is  12\n"
     ]
    }
   ],
   "source": [
    "x = 11 # Initialization of the variable x\n",
    "while (x <= 12):\n",
    "    print('The value of x is ', x)\n",
    "    x = x + 1 # Increment of the variable x"
   ]
  },
  {
   "cell_type": "code",
   "execution_count": 23,
   "metadata": {},
   "outputs": [
    {
     "name": "stdout",
     "output_type": "stream",
     "text": [
      "fraises\n",
      "bananes\n"
     ]
    }
   ],
   "source": [
    "fruits = ['pommes', 'oranges', 'fraises', 'bananes']\n",
    "i = 2\n",
    "while i < len(fruits):\n",
    "    print (fruits[i])\n",
    "    i = i + 1"
   ]
  },
  {
   "cell_type": "markdown",
   "metadata": {},
   "source": [
    "### 1.1. Loop Instructions: `for... in...`\n",
    "\n",
    "When we want to repeat a block of instructions a specified number of times, we can use a *counter*, which is a variable that counts the number of repetitions and controls the exit of the `while` loop. This is illustrated in the following example, where a function takes an integer `n` as an argument and prints the same message `n` times.\n",
    "\n",
    "To perform such a repetition, we have a loop structure that saves us from initializing the counter `(i = 0)` and incrementing it `(i += 1)`: this is the structure introduced by the `for` keyword.\n",
    "\n",
    "The general syntax for defining `for... in...` loop instructions is as follows:\n",
    "\n",
    "```python\n",
    "   for element in sequence_of_values :\n",
    "        block of instructions\n",
    "```"
   ]
  },
  {
   "cell_type": "code",
   "execution_count": 39,
   "metadata": {},
   "outputs": [
    {
     "name": "stdout",
     "output_type": "stream",
     "text": [
      "I repeat myself 5 times. (i=0)\n",
      "I repeat myself 5 times. (i=1)\n",
      "I repeat myself 5 times. (i=2)\n",
      "I repeat myself 5 times. (i=3)\n",
      "I repeat myself 5 times. (i=4)\n"
     ]
    }
   ],
   "source": [
    "n = 5\n",
    "for i in range(n):\n",
    "    print('I repeat myself {} times.' ' (i={})'.format(n, i))"
   ]
  },
  {
   "cell_type": "code",
   "execution_count": 40,
   "metadata": {},
   "outputs": [
    {
     "name": "stdout",
     "output_type": "stream",
     "text": [
      "1\n",
      "2\n",
      "3\n",
      "4\n",
      "5\n",
      "6\n",
      "7\n",
      "8\n",
      "9\n",
      "10\n"
     ]
    }
   ],
   "source": [
    "# Instruction dans une boucle « for.. in ... » simple\n",
    "for i in range(1,11) :\n",
    "    print(i)"
   ]
  },
  {
   "cell_type": "code",
   "execution_count": 26,
   "metadata": {},
   "outputs": [
    {
     "name": "stdout",
     "output_type": "stream",
     "text": [
      "H\n",
      "e\n",
      "l\n",
      "l\n",
      "o\n",
      " \n",
      "w\n",
      "o\n",
      "r\n",
      "l\n",
      "d\n"
     ]
    }
   ],
   "source": [
    "# Boucle « for.. in... » sur une chaine de caractères\n",
    "listch = \"Hello world\"\n",
    "for i in listch :\n",
    "    print ( i )"
   ]
  },
  {
   "cell_type": "code",
   "execution_count": 28,
   "metadata": {},
   "outputs": [
    {
     "name": "stdout",
     "output_type": "stream",
     "text": [
      "The condition is not verified for the element 4\n",
      "The condition is not verified for the element 5\n",
      "The condition is verified for the element 6\n"
     ]
    }
   ],
   "source": [
    "# Combining a `for...in...` Loop with an `if` Clause\n",
    "listnb = [4, 5, 6]\n",
    "for i in listnb:\n",
    "    if i == 5+1:\n",
    "        print(\"The condition is verified for the element\", i)\n",
    "    else :\n",
    "        print(\"The condition is not verified for the element\", i)"
   ]
  },
  {
   "cell_type": "code",
   "execution_count": 31,
   "metadata": {},
   "outputs": [
    {
     "name": "stdout",
     "output_type": "stream",
     "text": [
      "La lettre H est une consonne\n",
      "La lettre e est une voyelle\n",
      "La lettre l est une consonne\n",
      "La lettre l est une consonne\n",
      "La lettre o est une voyelle\n",
      "La lettre   est une consonne\n",
      "La lettre W est une consonne\n",
      "La lettre o est une voyelle\n",
      "La lettre r est une consonne\n",
      "La lettre l est une consonne\n",
      "La lettre d est une consonne\n"
     ]
    }
   ],
   "source": [
    "# Combining a `for...in...` Loop with an `if` Clause\n",
    "mych = \"Hello World\"\n",
    "for letre in mych :\n",
    "    if letre in \"AEIOUYaeiouy\":\n",
    "        print ('La lettre', letre, 'est une voyelle')\n",
    "    else :\n",
    "        print ('La lettre', letre, 'est une consonne')"
   ]
  },
  {
   "cell_type": "code",
   "execution_count": 44,
   "metadata": {},
   "outputs": [
    {
     "name": "stdout",
     "output_type": "stream",
     "text": [
      "The letter H is a consonant\n",
      "The letter e is a vowel\n",
      "The letter l is a consonant\n",
      "The letter l is a consonant\n",
      "The letter o is a vowel\n",
      "This is likely a space\n",
      "The letter W is a consonant\n",
      "The letter o is a vowel\n",
      "The letter r is a consonant\n",
      "The letter l is a consonant\n",
      "The letter d is a consonant\n"
     ]
    }
   ],
   "source": [
    "# Combining a `for...in...` Loop with an `if` Clause\n",
    "# Considering the `space` character\n",
    "mych = \"Hello World\"\n",
    "for letter in mych:\n",
    "    if letter in \"AEIOUYaeiouy\":\n",
    "        print('The letter', letter, 'is a vowel')\n",
    "    elif letter == \" \":\n",
    "        print(\"This is likely a space\")\n",
    "    else:\n",
    "        print('The letter', letter, 'is a consonant')\n"
   ]
  },
  {
   "cell_type": "code",
   "execution_count": 33,
   "metadata": {},
   "outputs": [
    {
     "name": "stdout",
     "output_type": "stream",
     "text": [
      "A mangue costs 49 Rwandan francs.\n",
      "A orange costs 99 Rwandan francs.\n",
      "A pomme costs 15 Rwandan francs.\n",
      "A banane costs 32 Rwandan francs.\n",
      "A cake costs 12300 Rwandan francs.\n"
     ]
    }
   ],
   "source": [
    "fruits = ['mangue', 'orange', 'pomme', 'banane','cake']\n",
    "costs = [49, 99, 15, 32,12300]\n",
    "for fruit, price in zip(fruits, costs):\n",
    "    print(\"A\", fruit, \"costs\", price, \"Rwandan francs.\")\n"
   ]
  },
  {
   "cell_type": "code",
   "execution_count": 34,
   "metadata": {},
   "outputs": [
    {
     "name": "stdout",
     "output_type": "stream",
     "text": [
      "A mangue costs 49 Rwandan francs.\n",
      "A orange costs 99 Rwandan francs.\n",
      "A pomme costs 15 Rwandan francs.\n",
      "A banane costs 32 Rwandan francs.\n"
     ]
    }
   ],
   "source": [
    "costs = {'mangue': 49, 'orange': 99, 'pomme': 15, 'banane': 32}\n",
    "for fruit, price in costs.items():\n",
    "    print(\"A\", fruit, \"costs\", price, \"Rwandan francs.\")\n"
   ]
  },
  {
   "cell_type": "markdown",
   "metadata": {},
   "source": [
    "## 2. List Comprehension\n",
    "\n",
    "In Python, a convenient and expressive syntax for creating lists is provided by list comprehensions. This method allows you to generate lists in a very concise way, often eliminating the need for explicit loops when elements need to be tested or processed before being included in the list.\n",
    "\n",
    "The syntax for defining a list comprehension is similar to the mathematical notation for defining a set comprehension:\n",
    "\n",
    "```python\n",
    "[expression for item in iterable if condition]\n",
    "```\n",
    "\n",
    "Here’s a breakdown of the components:\n",
    "- **`expression`**: The value or transformation to apply to each item.\n",
    "- **`item`**: The variable representing each element in the iterable.\n",
    "- **`iterable`**: The collection or sequence you are iterating over.\n",
    "- **`condition`** (optional): A filter that determines which items to include.\n",
    "\n",
    "**Example:**\n",
    "\n",
    "Suppose you want to create a list of squares for all even numbers between 1 and 10. Using a list comprehension, you can achieve this concisely:\n",
    "\n",
    "```python\n",
    "squares = [x**2 for x in range(1, 11) if x % 2 == 0]\n",
    "print(squares)\n",
    "```\n",
    "\n",
    "**Explanation:**\n",
    "- `x**2` is the expression that computes the square of each item.\n",
    "- `x` is the item variable iterating over the numbers in `range(1, 11)`.\n",
    "- `range(1, 11)` is the iterable providing numbers from 1 to 10.\n",
    "- `if x % 2 == 0` is the condition filtering only even numbers.\n",
    "\n",
    "The output will be:\n",
    "```\n",
    "[4, 16, 36, 64, 100]\n",
    "```\n",
    "\n",
    "This approach is both readable and efficient for generating lists based on specific criteria or transformations."
   ]
  },
  {
   "cell_type": "code",
   "execution_count": 35,
   "metadata": {},
   "outputs": [
    {
     "name": "stdout",
     "output_type": "stream",
     "text": [
      "[4, 16, 36, 64, 100]\n"
     ]
    }
   ],
   "source": [
    "squares = [x**2 for x in range(1, 11) if x % 2 == 0]\n",
    "print(squares)"
   ]
  },
  {
   "cell_type": "markdown",
   "metadata": {},
   "source": [
    "<center>\n",
    "    <img src=\"images/list-comprehension.png\" width=\"60%\">\n",
    "    </center>"
   ]
  },
  {
   "cell_type": "markdown",
   "metadata": {},
   "source": []
  },
  {
   "cell_type": "code",
   "execution_count": 47,
   "metadata": {},
   "outputs": [
    {
     "name": "stdout",
     "output_type": "stream",
     "text": [
      "[6, 12, 18, 24, 30]\n",
      "================================================\n",
      "\t\n",
      "[[2, 8], [4, 64], [6, 216], [8, 512], [10, 1000]]\n",
      "================================================\n",
      "\t\n",
      "[18, 24, 30]\n",
      "================================================\n",
      "\t\n",
      "[6, 12, 18]\n",
      "================================================\n",
      "\t\n",
      "[0, 2, 4, 0, 4, 8, 0, 6, 12, 0, 8, 16, 0, 10, 20]\n"
     ]
    }
   ],
   "source": [
    "liste = [2, 4, 6, 8, 10]\n",
    "\n",
    "print([3*x for x in liste])\n",
    "print(\"================================================\")\n",
    "print('\\t')\n",
    "\n",
    "print([[x, x**3] for x in liste])\n",
    "print(\"================================================\")\n",
    "print('\\t')\n",
    "\n",
    "print([3*x for x in liste if x > 5])  # filtering with a condition\n",
    "print(\"================================================\")\n",
    "print('\\t')\n",
    "\n",
    "print([3*x for x in liste if x**2 < 50])  # same as above\n",
    "print(\"================================================\")\n",
    "print('\\t')\n",
    "\n",
    "liste2 = list(range(3))\n",
    "print([x*y for x in liste for y in liste2])\n"
   ]
  },
  {
   "cell_type": "code",
   "execution_count": 37,
   "metadata": {},
   "outputs": [
    {
     "name": "stdout",
     "output_type": "stream",
     "text": [
      "[2000, 2004, 2008, 2012, 2016, 2020, 2024, 2028, 2032, 2036, 2040, 2044, 2048, 2052, 2056, 2060, 2064, 2068, 2072, 2076, 2080, 2084, 2088, 2092, 2096, 2104, 2108, 2112, 2116, 2120, 2124, 2128, 2132, 2136, 2140, 2144, 2148, 2152, 2156, 2160, 2164, 2168, 2172, 2176, 2180, 2184, 2188, 2192, 2196, 2204, 2208, 2212, 2216, 2220, 2224, 2228, 2232, 2236, 2240, 2244, 2248, 2252, 2256, 2260, 2264, 2268, 2272, 2276, 2280, 2284, 2288, 2292, 2296, 2304, 2308, 2312, 2316, 2320, 2324, 2328, 2332, 2336, 2340, 2344, 2348, 2352, 2356, 2360, 2364, 2368, 2372, 2376, 2380, 2384, 2388, 2392, 2396, 2400, 2404, 2408, 2412, 2416, 2420, 2424, 2428, 2432, 2436, 2440, 2444, 2448, 2452, 2456, 2460, 2464, 2468, 2472, 2476, 2480, 2484, 2488, 2492, 2496, 2504, 2508, 2512, 2516, 2520, 2524, 2528, 2532, 2536, 2540, 2544, 2548, 2552, 2556, 2560, 2564, 2568, 2572, 2576, 2580, 2584, 2588, 2592, 2596, 2604, 2608, 2612, 2616, 2620, 2624, 2628, 2632, 2636, 2640, 2644, 2648, 2652, 2656, 2660, 2664, 2668, 2672, 2676, 2680, 2684, 2688, 2692, 2696, 2704, 2708, 2712, 2716, 2720, 2724, 2728, 2732, 2736, 2740, 2744, 2748, 2752, 2756, 2760, 2764, 2768, 2772, 2776, 2780, 2784, 2788, 2792, 2796, 2800, 2804, 2808, 2812, 2816, 2820, 2824, 2828, 2832, 2836, 2840, 2844, 2848, 2852, 2856, 2860, 2864, 2868, 2872, 2876, 2880, 2884, 2888, 2892, 2896, 2904, 2908, 2912, 2916, 2920, 2924, 2928, 2932, 2936, 2940, 2944, 2948, 2952, 2956, 2960, 2964, 2968, 2972, 2976, 2980, 2984, 2988, 2992, 2996, 3004, 3008, 3012, 3016, 3020, 3024, 3028, 3032, 3036, 3040, 3044, 3048, 3052, 3056, 3060, 3064, 3068, 3072, 3076, 3080, 3084, 3088, 3092, 3096, 3104, 3108, 3112, 3116, 3120, 3124, 3128, 3132, 3136, 3140, 3144, 3148, 3152, 3156, 3160, 3164, 3168, 3172, 3176, 3180, 3184, 3188, 3192, 3196, 3200, 3204, 3208, 3212, 3216, 3220, 3224, 3228, 3232, 3236, 3240, 3244, 3248, 3252, 3256, 3260, 3264, 3268, 3272, 3276, 3280, 3284, 3288, 3292, 3296, 3304, 3308, 3312, 3316, 3320, 3324, 3328, 3332, 3336, 3340, 3344, 3348, 3352, 3356, 3360, 3364, 3368, 3372, 3376, 3380, 3384, 3388, 3392, 3396, 3404, 3408, 3412, 3416, 3420, 3424, 3428, 3432, 3436, 3440, 3444, 3448, 3452, 3456, 3460, 3464, 3468, 3472, 3476, 3480, 3484, 3488, 3492, 3496, 3504, 3508, 3512, 3516, 3520, 3524, 3528, 3532, 3536, 3540, 3544, 3548, 3552, 3556, 3560, 3564, 3568, 3572, 3576, 3580, 3584, 3588, 3592, 3596, 3600, 3604, 3608, 3612, 3616, 3620, 3624, 3628, 3632, 3636, 3640, 3644, 3648, 3652, 3656, 3660, 3664, 3668, 3672, 3676, 3680, 3684, 3688, 3692, 3696, 3704, 3708, 3712, 3716, 3720, 3724, 3728, 3732, 3736, 3740, 3744, 3748, 3752, 3756, 3760, 3764, 3768, 3772, 3776, 3780, 3784, 3788, 3792, 3796, 3804, 3808, 3812, 3816, 3820, 3824, 3828, 3832, 3836, 3840, 3844, 3848, 3852, 3856, 3860, 3864, 3868, 3872, 3876, 3880, 3884, 3888, 3892, 3896, 3904, 3908, 3912, 3916, 3920, 3924, 3928, 3932, 3936, 3940, 3944, 3948, 3952, 3956, 3960, 3964, 3968, 3972, 3976, 3980, 3984, 3988, 3992, 3996, 4000, 4004, 4008, 4012, 4016, 4020, 4024, 4028, 4032, 4036, 4040, 4044, 4048, 4052, 4056, 4060, 4064, 4068, 4072, 4076, 4080, 4084, 4088, 4092, 4096, 4104, 4108, 4112, 4116, 4120, 4124, 4128, 4132, 4136, 4140, 4144, 4148, 4152, 4156, 4160, 4164, 4168, 4172, 4176, 4180, 4184, 4188, 4192, 4196, 4204, 4208, 4212, 4216, 4220, 4224, 4228, 4232, 4236, 4240, 4244, 4248, 4252, 4256, 4260, 4264, 4268, 4272, 4276, 4280, 4284, 4288, 4292, 4296, 4304, 4308, 4312, 4316, 4320, 4324, 4328, 4332, 4336, 4340, 4344, 4348, 4352, 4356, 4360, 4364, 4368, 4372, 4376, 4380, 4384, 4388, 4392, 4396, 4400, 4404, 4408, 4412, 4416, 4420, 4424, 4428, 4432, 4436, 4440, 4444, 4448, 4452, 4456, 4460, 4464, 4468, 4472, 4476, 4480, 4484, 4488, 4492, 4496, 4504, 4508, 4512, 4516, 4520, 4524, 4528, 4532, 4536, 4540, 4544, 4548, 4552, 4556, 4560, 4564, 4568, 4572, 4576, 4580, 4584, 4588, 4592, 4596, 4604, 4608, 4612, 4616, 4620, 4624, 4628, 4632, 4636, 4640, 4644, 4648, 4652, 4656, 4660, 4664, 4668, 4672, 4676, 4680, 4684, 4688, 4692, 4696, 4704, 4708, 4712, 4716, 4720, 4724, 4728, 4732, 4736, 4740, 4744, 4748, 4752, 4756, 4760, 4764, 4768, 4772, 4776, 4780, 4784, 4788, 4792, 4796, 4800, 4804, 4808, 4812, 4816, 4820, 4824, 4828, 4832, 4836, 4840, 4844, 4848, 4852, 4856, 4860, 4864, 4868, 4872, 4876, 4880, 4884, 4888, 4892, 4896, 4904, 4908, 4912, 4916, 4920, 4924, 4928, 4932, 4936, 4940, 4944, 4948, 4952, 4956, 4960, 4964, 4968, 4972, 4976, 4980, 4984, 4988, 4992, 4996, 5004, 5008, 5012, 5016, 5020, 5024, 5028, 5032, 5036, 5040, 5044, 5048, 5052, 5056, 5060, 5064, 5068, 5072, 5076, 5080, 5084, 5088, 5092, 5096, 5104, 5108, 5112, 5116, 5120, 5124, 5128, 5132, 5136, 5140, 5144, 5148, 5152, 5156, 5160, 5164, 5168, 5172, 5176, 5180, 5184, 5188, 5192, 5196, 5200, 5204, 5208, 5212, 5216, 5220, 5224, 5228, 5232, 5236, 5240, 5244, 5248, 5252, 5256, 5260, 5264, 5268, 5272, 5276, 5280, 5284, 5288, 5292, 5296, 5304, 5308, 5312, 5316, 5320, 5324, 5328, 5332, 5336, 5340, 5344, 5348, 5352, 5356, 5360, 5364, 5368, 5372, 5376, 5380, 5384, 5388, 5392, 5396, 5404, 5408, 5412, 5416, 5420, 5424, 5428, 5432, 5436, 5440, 5444, 5448, 5452, 5456, 5460, 5464, 5468, 5472, 5476, 5480, 5484, 5488, 5492, 5496, 5504, 5508, 5512, 5516, 5520, 5524, 5528, 5532, 5536, 5540, 5544, 5548, 5552, 5556, 5560, 5564, 5568, 5572, 5576, 5580, 5584, 5588, 5592, 5596, 5600, 5604, 5608, 5612, 5616, 5620, 5624, 5628, 5632, 5636, 5640, 5644, 5648, 5652, 5656, 5660, 5664, 5668, 5672, 5676, 5680, 5684, 5688, 5692, 5696, 5704, 5708, 5712, 5716, 5720, 5724, 5728, 5732, 5736, 5740, 5744, 5748, 5752, 5756, 5760, 5764, 5768, 5772, 5776, 5780, 5784, 5788, 5792, 5796, 5804, 5808, 5812, 5816, 5820, 5824, 5828, 5832, 5836, 5840, 5844, 5848, 5852, 5856, 5860, 5864, 5868, 5872, 5876, 5880, 5884, 5888, 5892, 5896, 5904, 5908, 5912, 5916, 5920, 5924, 5928, 5932, 5936, 5940, 5944, 5948, 5952, 5956, 5960, 5964, 5968, 5972, 5976, 5980, 5984, 5988, 5992, 5996, 6000, 6004, 6008, 6012, 6016, 6020, 6024, 6028, 6032, 6036, 6040, 6044, 6048, 6052, 6056, 6060, 6064, 6068, 6072, 6076, 6080, 6084, 6088, 6092, 6096, 6104, 6108, 6112, 6116, 6120, 6124, 6128, 6132, 6136, 6140, 6144, 6148, 6152, 6156, 6160, 6164, 6168, 6172, 6176, 6180, 6184, 6188, 6192, 6196, 6204, 6208, 6212, 6216, 6220, 6224, 6228, 6232, 6236, 6240, 6244, 6248, 6252, 6256, 6260, 6264, 6268, 6272, 6276, 6280, 6284, 6288, 6292, 6296, 6304, 6308, 6312, 6316, 6320, 6324, 6328, 6332, 6336, 6340, 6344, 6348, 6352, 6356, 6360, 6364, 6368, 6372, 6376, 6380, 6384, 6388, 6392, 6396, 6400, 6404, 6408, 6412, 6416, 6420, 6424, 6428, 6432, 6436, 6440, 6444, 6448, 6452, 6456, 6460, 6464, 6468, 6472, 6476, 6480, 6484, 6488, 6492, 6496, 6504, 6508, 6512, 6516, 6520, 6524, 6528, 6532, 6536, 6540, 6544, 6548, 6552, 6556, 6560, 6564, 6568, 6572, 6576, 6580, 6584, 6588, 6592, 6596, 6604, 6608, 6612, 6616, 6620, 6624, 6628, 6632, 6636, 6640, 6644, 6648, 6652, 6656, 6660, 6664, 6668, 6672, 6676, 6680, 6684, 6688, 6692, 6696, 6704, 6708, 6712, 6716, 6720, 6724, 6728, 6732, 6736, 6740, 6744, 6748, 6752, 6756, 6760, 6764, 6768, 6772, 6776, 6780, 6784, 6788, 6792, 6796, 6800, 6804, 6808, 6812, 6816, 6820, 6824, 6828, 6832, 6836, 6840, 6844, 6848, 6852, 6856, 6860, 6864, 6868, 6872, 6876, 6880, 6884, 6888, 6892, 6896, 6904, 6908, 6912, 6916, 6920, 6924, 6928, 6932, 6936, 6940, 6944, 6948, 6952, 6956, 6960, 6964, 6968, 6972, 6976, 6980, 6984, 6988, 6992, 6996, 7004, 7008, 7012, 7016, 7020, 7024, 7028, 7032, 7036, 7040, 7044, 7048, 7052, 7056, 7060, 7064, 7068, 7072, 7076, 7080, 7084, 7088, 7092, 7096, 7104, 7108, 7112, 7116, 7120, 7124, 7128, 7132, 7136, 7140, 7144, 7148, 7152, 7156, 7160, 7164, 7168, 7172, 7176, 7180, 7184, 7188, 7192, 7196, 7200, 7204, 7208, 7212, 7216, 7220, 7224, 7228, 7232, 7236, 7240, 7244, 7248, 7252, 7256, 7260, 7264, 7268, 7272, 7276, 7280, 7284, 7288, 7292, 7296, 7304, 7308, 7312, 7316, 7320, 7324, 7328, 7332, 7336, 7340, 7344, 7348, 7352, 7356, 7360, 7364, 7368, 7372, 7376, 7380, 7384, 7388, 7392, 7396, 7404, 7408, 7412, 7416, 7420, 7424, 7428, 7432, 7436, 7440, 7444, 7448, 7452, 7456, 7460, 7464, 7468, 7472, 7476, 7480, 7484, 7488, 7492, 7496, 7504, 7508, 7512, 7516, 7520, 7524, 7528, 7532, 7536, 7540, 7544, 7548, 7552, 7556, 7560, 7564, 7568, 7572, 7576, 7580, 7584, 7588, 7592, 7596, 7600, 7604, 7608, 7612, 7616, 7620, 7624, 7628, 7632, 7636, 7640, 7644, 7648, 7652, 7656, 7660, 7664, 7668, 7672, 7676, 7680, 7684, 7688, 7692, 7696, 7704, 7708, 7712, 7716, 7720, 7724, 7728, 7732, 7736, 7740, 7744, 7748, 7752, 7756, 7760, 7764, 7768, 7772, 7776, 7780, 7784, 7788, 7792, 7796, 7804, 7808, 7812, 7816, 7820, 7824, 7828, 7832, 7836, 7840, 7844, 7848, 7852, 7856, 7860, 7864, 7868, 7872, 7876, 7880, 7884, 7888, 7892, 7896, 7904, 7908, 7912, 7916, 7920, 7924, 7928, 7932, 7936, 7940, 7944, 7948, 7952, 7956, 7960, 7964, 7968, 7972, 7976, 7980, 7984, 7988, 7992, 7996, 8000, 8004, 8008, 8012, 8016, 8020, 8024, 8028, 8032, 8036, 8040, 8044, 8048, 8052, 8056, 8060, 8064, 8068, 8072, 8076, 8080, 8084, 8088, 8092, 8096, 8104, 8108, 8112, 8116, 8120, 8124, 8128, 8132, 8136, 8140, 8144, 8148, 8152, 8156, 8160, 8164, 8168, 8172, 8176, 8180, 8184, 8188, 8192, 8196, 8204, 8208, 8212, 8216, 8220, 8224, 8228, 8232, 8236, 8240, 8244, 8248, 8252, 8256, 8260, 8264, 8268, 8272, 8276, 8280, 8284, 8288, 8292, 8296, 8304, 8308, 8312, 8316, 8320, 8324, 8328, 8332, 8336, 8340, 8344, 8348, 8352, 8356, 8360, 8364, 8368, 8372, 8376, 8380, 8384, 8388, 8392, 8396, 8400, 8404, 8408, 8412, 8416, 8420, 8424, 8428, 8432, 8436, 8440, 8444, 8448, 8452, 8456, 8460, 8464, 8468, 8472, 8476, 8480, 8484, 8488, 8492, 8496, 8504, 8508, 8512, 8516, 8520, 8524, 8528, 8532, 8536, 8540, 8544, 8548, 8552, 8556, 8560, 8564, 8568, 8572, 8576, 8580, 8584, 8588, 8592, 8596, 8604, 8608, 8612, 8616, 8620, 8624, 8628, 8632, 8636, 8640, 8644, 8648, 8652, 8656, 8660, 8664, 8668, 8672, 8676, 8680, 8684, 8688, 8692, 8696, 8704, 8708, 8712, 8716, 8720, 8724, 8728, 8732, 8736, 8740, 8744, 8748, 8752, 8756, 8760, 8764, 8768, 8772, 8776, 8780, 8784, 8788, 8792, 8796, 8800, 8804, 8808, 8812, 8816, 8820, 8824, 8828, 8832, 8836, 8840, 8844, 8848, 8852, 8856, 8860, 8864, 8868, 8872, 8876, 8880, 8884, 8888, 8892, 8896, 8904, 8908, 8912, 8916, 8920, 8924, 8928, 8932, 8936, 8940, 8944, 8948, 8952, 8956, 8960, 8964, 8968, 8972, 8976, 8980, 8984, 8988, 8992, 8996, 9004, 9008, 9012, 9016, 9020, 9024, 9028, 9032, 9036, 9040, 9044, 9048, 9052, 9056, 9060, 9064, 9068, 9072, 9076, 9080, 9084, 9088, 9092, 9096, 9104, 9108, 9112, 9116, 9120, 9124, 9128, 9132, 9136, 9140, 9144, 9148, 9152, 9156, 9160, 9164, 9168, 9172, 9176, 9180, 9184, 9188, 9192, 9196, 9200, 9204, 9208, 9212, 9216, 9220, 9224, 9228, 9232, 9236, 9240, 9244, 9248, 9252, 9256, 9260, 9264, 9268, 9272, 9276, 9280, 9284, 9288, 9292, 9296, 9304, 9308, 9312, 9316, 9320, 9324, 9328, 9332, 9336, 9340, 9344, 9348, 9352, 9356, 9360, 9364, 9368, 9372, 9376, 9380, 9384, 9388, 9392, 9396, 9404, 9408, 9412, 9416, 9420, 9424, 9428, 9432, 9436, 9440, 9444, 9448, 9452, 9456, 9460, 9464, 9468, 9472, 9476, 9480, 9484, 9488, 9492, 9496, 9504, 9508, 9512, 9516, 9520, 9524, 9528, 9532, 9536, 9540, 9544, 9548, 9552, 9556, 9560, 9564, 9568, 9572, 9576, 9580, 9584, 9588, 9592, 9596, 9600, 9604, 9608, 9612, 9616, 9620, 9624, 9628, 9632, 9636, 9640, 9644, 9648, 9652, 9656, 9660, 9664, 9668, 9672, 9676, 9680, 9684, 9688, 9692, 9696, 9704, 9708, 9712, 9716, 9720, 9724, 9728, 9732, 9736, 9740, 9744, 9748, 9752, 9756, 9760, 9764, 9768, 9772, 9776, 9780, 9784, 9788, 9792, 9796, 9804, 9808, 9812, 9816, 9820, 9824, 9828, 9832, 9836, 9840, 9844, 9848, 9852, 9856, 9860, 9864, 9868, 9872, 9876, 9880, 9884, 9888, 9892, 9896, 9904, 9908, 9912, 9916, 9920, 9924, 9928, 9932, 9936, 9940, 9944, 9948, 9952, 9956, 9960, 9964, 9968, 9972, 9976, 9980, 9984, 9988, 9992, 9996, 10000, 10004, 10008, 10012, 10016, 10020, 10024, 10028, 10032, 10036, 10040, 10044, 10048, 10052, 10056, 10060, 10064, 10068, 10072, 10076, 10080, 10084, 10088, 10092, 10096, 10104, 10108, 10112, 10116, 10120, 10124, 10128, 10132, 10136, 10140, 10144, 10148, 10152, 10156, 10160, 10164, 10168, 10172, 10176, 10180, 10184, 10188, 10192, 10196, 10204, 10208, 10212, 10216, 10220, 10224, 10228, 10232, 10236, 10240, 10244, 10248, 10252, 10256, 10260, 10264, 10268, 10272, 10276, 10280, 10284, 10288, 10292, 10296, 10304, 10308, 10312, 10316, 10320, 10324, 10328, 10332, 10336, 10340, 10344, 10348, 10352, 10356, 10360, 10364, 10368, 10372, 10376, 10380, 10384, 10388, 10392, 10396, 10400, 10404, 10408, 10412, 10416, 10420, 10424, 10428, 10432, 10436, 10440, 10444, 10448, 10452, 10456, 10460, 10464, 10468, 10472, 10476, 10480, 10484, 10488, 10492, 10496, 10504, 10508, 10512, 10516, 10520, 10524, 10528, 10532, 10536, 10540, 10544, 10548, 10552, 10556, 10560, 10564, 10568, 10572, 10576, 10580, 10584, 10588, 10592, 10596, 10604, 10608, 10612, 10616, 10620, 10624, 10628, 10632, 10636, 10640, 10644, 10648, 10652, 10656, 10660, 10664, 10668, 10672, 10676, 10680, 10684, 10688, 10692, 10696, 10704, 10708, 10712, 10716, 10720, 10724, 10728, 10732, 10736, 10740, 10744, 10748, 10752, 10756, 10760, 10764, 10768, 10772, 10776, 10780, 10784, 10788, 10792, 10796, 10800, 10804, 10808, 10812, 10816, 10820, 10824, 10828, 10832, 10836, 10840, 10844, 10848, 10852, 10856, 10860, 10864, 10868, 10872, 10876, 10880, 10884, 10888, 10892, 10896, 10904, 10908, 10912, 10916, 10920, 10924, 10928, 10932, 10936, 10940, 10944, 10948, 10952, 10956, 10960, 10964, 10968, 10972, 10976, 10980, 10984, 10988, 10992, 10996, 11004, 11008, 11012, 11016, 11020, 11024, 11028, 11032, 11036, 11040, 11044, 11048, 11052, 11056, 11060, 11064, 11068, 11072, 11076, 11080, 11084, 11088, 11092, 11096, 11104, 11108, 11112, 11116, 11120, 11124, 11128, 11132, 11136, 11140, 11144, 11148, 11152, 11156, 11160, 11164, 11168, 11172, 11176, 11180, 11184, 11188, 11192, 11196, 11200, 11204, 11208, 11212, 11216, 11220, 11224, 11228, 11232, 11236, 11240, 11244, 11248, 11252, 11256, 11260, 11264, 11268, 11272, 11276, 11280, 11284, 11288, 11292, 11296, 11304, 11308, 11312, 11316, 11320, 11324, 11328, 11332, 11336, 11340, 11344, 11348, 11352, 11356, 11360, 11364, 11368, 11372, 11376, 11380, 11384, 11388, 11392, 11396, 11404, 11408, 11412, 11416, 11420, 11424, 11428, 11432, 11436, 11440, 11444, 11448, 11452, 11456, 11460, 11464, 11468, 11472, 11476, 11480, 11484, 11488, 11492, 11496, 11504, 11508, 11512, 11516, 11520, 11524, 11528, 11532, 11536, 11540, 11544, 11548, 11552, 11556, 11560, 11564, 11568, 11572, 11576, 11580, 11584, 11588, 11592, 11596, 11600, 11604, 11608, 11612, 11616, 11620, 11624, 11628, 11632, 11636, 11640, 11644, 11648, 11652, 11656, 11660, 11664, 11668, 11672, 11676, 11680, 11684, 11688, 11692, 11696, 11704, 11708, 11712, 11716, 11720, 11724, 11728, 11732, 11736, 11740, 11744, 11748, 11752, 11756, 11760, 11764, 11768, 11772, 11776, 11780, 11784, 11788, 11792, 11796, 11804, 11808, 11812, 11816, 11820, 11824, 11828, 11832, 11836, 11840, 11844, 11848, 11852, 11856, 11860, 11864, 11868, 11872, 11876, 11880, 11884, 11888, 11892, 11896, 11904, 11908, 11912, 11916, 11920, 11924, 11928, 11932, 11936, 11940, 11944, 11948, 11952, 11956, 11960, 11964, 11968, 11972, 11976, 11980, 11984, 11988, 11992, 11996, 12000, 12004, 12008, 12012, 12016, 12020, 12024, 12028, 12032, 12036, 12040, 12044, 12048, 12052, 12056, 12060, 12064, 12068, 12072, 12076, 12080, 12084, 12088, 12092, 12096, 12104, 12108, 12112, 12116, 12120, 12124, 12128, 12132, 12136, 12140, 12144, 12148, 12152, 12156, 12160, 12164, 12168, 12172, 12176, 12180, 12184, 12188, 12192, 12196, 12204, 12208, 12212, 12216, 12220, 12224, 12228, 12232, 12236, 12240, 12244, 12248, 12252, 12256, 12260, 12264, 12268, 12272, 12276, 12280, 12284, 12288, 12292, 12296, 12304, 12308, 12312, 12316, 12320, 12324, 12328, 12332, 12336, 12340, 12344, 12348, 12352, 12356, 12360, 12364, 12368, 12372, 12376, 12380, 12384, 12388, 12392, 12396, 12400, 12404, 12408, 12412, 12416, 12420, 12424, 12428, 12432, 12436, 12440, 12444, 12448, 12452, 12456, 12460, 12464, 12468, 12472, 12476, 12480, 12484, 12488, 12492, 12496, 12504, 12508, 12512, 12516, 12520, 12524, 12528, 12532, 12536, 12540, 12544, 12548, 12552, 12556, 12560, 12564, 12568, 12572, 12576, 12580, 12584, 12588, 12592, 12596, 12604, 12608, 12612, 12616, 12620, 12624, 12628, 12632, 12636, 12640, 12644, 12648, 12652, 12656, 12660, 12664, 12668, 12672, 12676, 12680, 12684, 12688, 12692, 12696, 12704, 12708, 12712, 12716, 12720, 12724, 12728, 12732, 12736, 12740, 12744, 12748, 12752, 12756, 12760, 12764, 12768, 12772, 12776, 12780, 12784, 12788, 12792, 12796, 12800, 12804, 12808, 12812, 12816, 12820, 12824, 12828, 12832, 12836, 12840, 12844, 12848, 12852, 12856, 12860, 12864, 12868, 12872, 12876, 12880, 12884, 12888, 12892, 12896, 12904, 12908, 12912, 12916, 12920, 12924, 12928, 12932, 12936, 12940, 12944, 12948, 12952, 12956, 12960, 12964, 12968, 12972, 12976, 12980, 12984, 12988, 12992, 12996, 13004, 13008, 13012, 13016, 13020, 13024, 13028, 13032, 13036, 13040, 13044, 13048, 13052, 13056, 13060, 13064, 13068, 13072, 13076, 13080, 13084, 13088, 13092, 13096, 13104, 13108, 13112, 13116, 13120, 13124, 13128, 13132, 13136, 13140, 13144, 13148, 13152, 13156, 13160, 13164, 13168, 13172, 13176, 13180, 13184, 13188, 13192, 13196, 13200, 13204, 13208, 13212, 13216, 13220, 13224, 13228, 13232, 13236, 13240, 13244, 13248, 13252, 13256, 13260, 13264, 13268, 13272, 13276, 13280, 13284, 13288, 13292, 13296, 13304, 13308, 13312, 13316, 13320, 13324, 13328, 13332, 13336, 13340, 13344, 13348, 13352, 13356, 13360, 13364, 13368, 13372, 13376, 13380, 13384, 13388, 13392, 13396, 13404, 13408, 13412, 13416, 13420, 13424, 13428, 13432, 13436, 13440, 13444, 13448, 13452, 13456, 13460, 13464, 13468, 13472, 13476, 13480, 13484, 13488, 13492, 13496, 13504, 13508, 13512, 13516, 13520, 13524, 13528, 13532, 13536, 13540, 13544, 13548, 13552, 13556, 13560, 13564, 13568, 13572, 13576, 13580, 13584, 13588, 13592, 13596, 13600, 13604, 13608, 13612, 13616, 13620, 13624, 13628, 13632, 13636, 13640, 13644, 13648, 13652, 13656, 13660, 13664, 13668, 13672, 13676, 13680, 13684, 13688, 13692, 13696, 13704, 13708, 13712, 13716, 13720, 13724, 13728, 13732, 13736, 13740, 13744, 13748, 13752, 13756, 13760, 13764, 13768, 13772, 13776, 13780, 13784, 13788, 13792, 13796, 13804, 13808, 13812, 13816, 13820, 13824, 13828, 13832, 13836, 13840, 13844, 13848, 13852, 13856, 13860, 13864, 13868, 13872, 13876, 13880, 13884, 13888, 13892, 13896, 13904, 13908, 13912, 13916, 13920, 13924, 13928, 13932, 13936, 13940, 13944, 13948, 13952, 13956, 13960, 13964, 13968, 13972, 13976, 13980, 13984, 13988, 13992, 13996, 14000, 14004, 14008, 14012, 14016, 14020, 14024, 14028, 14032, 14036, 14040, 14044, 14048, 14052, 14056, 14060, 14064, 14068, 14072, 14076, 14080, 14084, 14088, 14092, 14096, 14104, 14108, 14112, 14116, 14120, 14124, 14128, 14132, 14136, 14140, 14144, 14148, 14152, 14156, 14160, 14164, 14168, 14172, 14176, 14180, 14184, 14188, 14192, 14196, 14204, 14208, 14212, 14216, 14220, 14224, 14228, 14232, 14236, 14240, 14244, 14248, 14252, 14256, 14260, 14264, 14268, 14272, 14276, 14280, 14284, 14288, 14292, 14296, 14304, 14308, 14312, 14316, 14320, 14324, 14328, 14332, 14336, 14340, 14344, 14348, 14352, 14356, 14360, 14364, 14368, 14372, 14376, 14380, 14384, 14388, 14392, 14396, 14400, 14404, 14408, 14412, 14416, 14420, 14424, 14428, 14432, 14436, 14440, 14444, 14448, 14452, 14456, 14460, 14464, 14468, 14472, 14476, 14480, 14484, 14488, 14492, 14496, 14504, 14508, 14512, 14516, 14520, 14524, 14528, 14532, 14536, 14540, 14544, 14548, 14552, 14556, 14560, 14564, 14568, 14572, 14576, 14580, 14584, 14588, 14592, 14596, 14604, 14608, 14612, 14616, 14620, 14624, 14628, 14632, 14636, 14640, 14644, 14648, 14652, 14656, 14660, 14664, 14668, 14672, 14676, 14680, 14684, 14688, 14692, 14696, 14704, 14708, 14712, 14716, 14720, 14724, 14728, 14732, 14736, 14740, 14744, 14748, 14752, 14756, 14760, 14764, 14768, 14772, 14776, 14780, 14784, 14788, 14792, 14796, 14800, 14804, 14808, 14812, 14816, 14820, 14824, 14828, 14832, 14836, 14840, 14844, 14848, 14852, 14856, 14860, 14864, 14868, 14872, 14876, 14880, 14884, 14888, 14892, 14896, 14904, 14908, 14912, 14916, 14920, 14924, 14928, 14932, 14936, 14940, 14944, 14948, 14952, 14956, 14960, 14964, 14968, 14972, 14976, 14980, 14984, 14988, 14992, 14996, 15004, 15008, 15012, 15016, 15020, 15024, 15028, 15032, 15036, 15040, 15044, 15048, 15052, 15056, 15060, 15064, 15068, 15072, 15076, 15080, 15084, 15088, 15092, 15096, 15104, 15108, 15112, 15116, 15120, 15124, 15128, 15132, 15136, 15140, 15144, 15148, 15152, 15156, 15160, 15164, 15168, 15172, 15176, 15180, 15184, 15188, 15192, 15196, 15200, 15204, 15208, 15212, 15216, 15220, 15224, 15228, 15232, 15236, 15240, 15244, 15248, 15252, 15256, 15260, 15264, 15268, 15272, 15276, 15280, 15284, 15288, 15292, 15296, 15304, 15308, 15312, 15316, 15320, 15324, 15328, 15332, 15336, 15340, 15344, 15348, 15352, 15356, 15360, 15364, 15368, 15372, 15376, 15380, 15384, 15388, 15392, 15396, 15404, 15408, 15412, 15416, 15420, 15424, 15428, 15432, 15436, 15440, 15444, 15448, 15452, 15456, 15460, 15464, 15468, 15472, 15476, 15480, 15484, 15488, 15492, 15496, 15504, 15508, 15512, 15516, 15520, 15524, 15528, 15532, 15536, 15540, 15544, 15548, 15552, 15556, 15560, 15564, 15568, 15572, 15576, 15580, 15584, 15588, 15592, 15596, 15600, 15604, 15608, 15612, 15616, 15620, 15624, 15628, 15632, 15636, 15640, 15644, 15648, 15652, 15656, 15660, 15664, 15668, 15672, 15676, 15680, 15684, 15688, 15692, 15696, 15704, 15708, 15712, 15716, 15720, 15724, 15728, 15732, 15736, 15740, 15744, 15748, 15752, 15756, 15760, 15764, 15768, 15772, 15776, 15780, 15784, 15788, 15792, 15796, 15804, 15808, 15812, 15816, 15820, 15824, 15828, 15832, 15836, 15840, 15844, 15848, 15852, 15856, 15860, 15864, 15868, 15872, 15876, 15880, 15884, 15888, 15892, 15896, 15904, 15908, 15912, 15916, 15920, 15924, 15928, 15932, 15936, 15940, 15944, 15948, 15952, 15956, 15960, 15964, 15968, 15972, 15976, 15980, 15984, 15988, 15992, 15996, 16000, 16004, 16008, 16012, 16016, 16020, 16024, 16028, 16032, 16036, 16040, 16044, 16048, 16052, 16056, 16060, 16064, 16068, 16072, 16076, 16080, 16084, 16088, 16092, 16096, 16104, 16108, 16112, 16116, 16120, 16124, 16128, 16132, 16136, 16140, 16144, 16148, 16152, 16156, 16160, 16164, 16168, 16172, 16176, 16180, 16184, 16188, 16192, 16196, 16204, 16208, 16212, 16216, 16220, 16224, 16228, 16232, 16236, 16240, 16244, 16248, 16252, 16256, 16260, 16264, 16268, 16272, 16276, 16280, 16284, 16288, 16292, 16296, 16304, 16308, 16312, 16316, 16320, 16324, 16328, 16332, 16336, 16340, 16344, 16348, 16352, 16356, 16360, 16364, 16368, 16372, 16376, 16380, 16384, 16388, 16392, 16396, 16400, 16404, 16408, 16412, 16416, 16420, 16424, 16428, 16432, 16436, 16440, 16444, 16448, 16452, 16456, 16460, 16464, 16468, 16472, 16476, 16480, 16484, 16488, 16492, 16496, 16504, 16508, 16512, 16516, 16520, 16524, 16528, 16532, 16536, 16540, 16544, 16548, 16552, 16556, 16560, 16564, 16568, 16572, 16576, 16580, 16584, 16588, 16592, 16596, 16604, 16608, 16612, 16616, 16620, 16624, 16628, 16632, 16636, 16640, 16644, 16648, 16652, 16656, 16660, 16664, 16668, 16672, 16676, 16680, 16684, 16688, 16692, 16696, 16704, 16708, 16712, 16716, 16720, 16724, 16728, 16732, 16736, 16740, 16744, 16748, 16752, 16756, 16760, 16764, 16768, 16772, 16776, 16780, 16784, 16788, 16792, 16796, 16800, 16804, 16808, 16812, 16816, 16820, 16824, 16828, 16832, 16836, 16840, 16844, 16848, 16852, 16856, 16860, 16864, 16868, 16872, 16876, 16880, 16884, 16888, 16892, 16896, 16904, 16908, 16912, 16916, 16920, 16924, 16928, 16932, 16936, 16940, 16944, 16948, 16952, 16956, 16960, 16964, 16968, 16972, 16976, 16980, 16984, 16988, 16992, 16996, 17004, 17008, 17012, 17016, 17020, 17024, 17028, 17032, 17036, 17040, 17044, 17048, 17052, 17056, 17060, 17064, 17068, 17072, 17076, 17080, 17084, 17088, 17092, 17096, 17104, 17108, 17112, 17116, 17120, 17124, 17128, 17132, 17136, 17140, 17144, 17148, 17152, 17156, 17160, 17164, 17168, 17172, 17176, 17180, 17184, 17188, 17192, 17196, 17200, 17204, 17208, 17212, 17216, 17220, 17224, 17228, 17232, 17236, 17240, 17244, 17248, 17252, 17256, 17260, 17264, 17268, 17272, 17276, 17280, 17284, 17288, 17292, 17296, 17304, 17308, 17312, 17316, 17320, 17324, 17328, 17332, 17336, 17340, 17344, 17348, 17352, 17356, 17360, 17364, 17368, 17372, 17376, 17380, 17384, 17388, 17392, 17396, 17404, 17408, 17412, 17416, 17420, 17424, 17428, 17432, 17436, 17440, 17444, 17448, 17452, 17456, 17460, 17464, 17468, 17472, 17476, 17480, 17484, 17488, 17492, 17496, 17504, 17508, 17512, 17516, 17520, 17524, 17528, 17532, 17536, 17540, 17544, 17548, 17552, 17556, 17560, 17564, 17568, 17572, 17576, 17580, 17584, 17588, 17592, 17596, 17600, 17604, 17608, 17612, 17616, 17620, 17624, 17628, 17632, 17636, 17640, 17644, 17648, 17652, 17656, 17660, 17664, 17668, 17672, 17676, 17680, 17684, 17688, 17692, 17696, 17704, 17708, 17712, 17716, 17720, 17724, 17728, 17732, 17736, 17740, 17744, 17748, 17752, 17756, 17760, 17764, 17768, 17772, 17776, 17780, 17784, 17788, 17792, 17796, 17804, 17808, 17812, 17816, 17820, 17824, 17828, 17832, 17836, 17840, 17844, 17848, 17852, 17856, 17860, 17864, 17868, 17872, 17876, 17880, 17884, 17888, 17892, 17896, 17904, 17908, 17912, 17916, 17920, 17924, 17928, 17932, 17936, 17940, 17944, 17948, 17952, 17956, 17960, 17964, 17968, 17972, 17976, 17980, 17984, 17988, 17992, 17996, 18000, 18004, 18008, 18012, 18016, 18020, 18024, 18028, 18032, 18036, 18040, 18044, 18048, 18052, 18056, 18060, 18064, 18068, 18072, 18076, 18080, 18084, 18088, 18092, 18096, 18104, 18108, 18112, 18116, 18120, 18124, 18128, 18132, 18136, 18140, 18144, 18148, 18152, 18156, 18160, 18164, 18168, 18172, 18176, 18180, 18184, 18188, 18192, 18196, 18204, 18208, 18212, 18216, 18220, 18224, 18228, 18232, 18236, 18240, 18244, 18248, 18252, 18256, 18260, 18264, 18268, 18272, 18276, 18280, 18284, 18288, 18292, 18296, 18304, 18308, 18312, 18316, 18320, 18324, 18328, 18332, 18336, 18340, 18344, 18348, 18352, 18356, 18360, 18364, 18368, 18372, 18376, 18380, 18384, 18388, 18392, 18396, 18400, 18404, 18408, 18412, 18416, 18420, 18424, 18428, 18432, 18436, 18440, 18444, 18448, 18452, 18456, 18460, 18464, 18468, 18472, 18476, 18480, 18484, 18488, 18492, 18496, 18504, 18508, 18512, 18516, 18520, 18524, 18528, 18532, 18536, 18540, 18544, 18548, 18552, 18556, 18560, 18564, 18568, 18572, 18576, 18580, 18584, 18588, 18592, 18596, 18604, 18608, 18612, 18616, 18620, 18624, 18628, 18632, 18636, 18640, 18644, 18648, 18652, 18656, 18660, 18664, 18668, 18672, 18676, 18680, 18684, 18688, 18692, 18696, 18704, 18708, 18712, 18716, 18720, 18724, 18728, 18732, 18736, 18740, 18744, 18748, 18752, 18756, 18760, 18764, 18768, 18772, 18776, 18780, 18784, 18788, 18792, 18796, 18800, 18804, 18808, 18812, 18816, 18820, 18824, 18828, 18832, 18836, 18840, 18844, 18848, 18852, 18856, 18860, 18864, 18868, 18872, 18876, 18880, 18884, 18888, 18892, 18896, 18904, 18908, 18912, 18916, 18920, 18924, 18928, 18932, 18936, 18940, 18944, 18948, 18952, 18956, 18960, 18964, 18968, 18972, 18976, 18980, 18984, 18988, 18992, 18996, 19004, 19008, 19012, 19016, 19020, 19024, 19028, 19032, 19036, 19040, 19044, 19048, 19052, 19056, 19060, 19064, 19068, 19072, 19076, 19080, 19084, 19088, 19092, 19096, 19104, 19108, 19112, 19116, 19120, 19124, 19128, 19132, 19136, 19140, 19144, 19148, 19152, 19156, 19160, 19164, 19168, 19172, 19176, 19180, 19184, 19188, 19192, 19196, 19200, 19204, 19208, 19212, 19216, 19220, 19224, 19228, 19232, 19236, 19240, 19244, 19248, 19252, 19256, 19260, 19264, 19268, 19272, 19276, 19280, 19284, 19288, 19292, 19296, 19304, 19308, 19312, 19316, 19320, 19324, 19328, 19332, 19336, 19340, 19344, 19348, 19352, 19356, 19360, 19364, 19368, 19372, 19376, 19380, 19384, 19388, 19392, 19396, 19404, 19408, 19412, 19416, 19420, 19424, 19428, 19432, 19436, 19440, 19444, 19448, 19452, 19456, 19460, 19464, 19468, 19472, 19476, 19480, 19484, 19488, 19492, 19496, 19504, 19508, 19512, 19516, 19520, 19524, 19528, 19532, 19536, 19540, 19544, 19548, 19552, 19556, 19560, 19564, 19568, 19572, 19576, 19580, 19584, 19588, 19592, 19596, 19600, 19604, 19608, 19612, 19616, 19620, 19624, 19628, 19632, 19636, 19640, 19644, 19648, 19652, 19656, 19660, 19664, 19668, 19672, 19676, 19680, 19684, 19688, 19692, 19696, 19704, 19708, 19712, 19716, 19720, 19724, 19728, 19732, 19736, 19740, 19744, 19748, 19752, 19756, 19760, 19764, 19768, 19772, 19776, 19780, 19784, 19788, 19792, 19796, 19804, 19808, 19812, 19816, 19820, 19824, 19828, 19832, 19836, 19840, 19844, 19848, 19852, 19856, 19860, 19864, 19868, 19872, 19876, 19880, 19884, 19888, 19892, 19896, 19904, 19908, 19912, 19916, 19920, 19924, 19928, 19932, 19936, 19940, 19944, 19948, 19952, 19956, 19960, 19964, 19968, 19972, 19976, 19980, 19984, 19988, 19992, 19996, 20000, 20004, 20008, 20012, 20016, 20020, 20024, 20028, 20032, 20036, 20040, 20044, 20048, 20052, 20056, 20060, 20064, 20068, 20072, 20076, 20080, 20084, 20088, 20092, 20096, 20104, 20108, 20112, 20116, 20120, 20124, 20128, 20132, 20136, 20140, 20144, 20148, 20152, 20156, 20160, 20164, 20168, 20172, 20176, 20180, 20184, 20188, 20192, 20196, 20204, 20208, 20212, 20216, 20220, 20224, 20228, 20232, 20236, 20240, 20244, 20248, 20252, 20256, 20260, 20264, 20268, 20272, 20276, 20280, 20284, 20288, 20292, 20296, 20304, 20308, 20312, 20316, 20320, 20324, 20328, 20332, 20336, 20340, 20344, 20348, 20352, 20356, 20360, 20364, 20368, 20372, 20376, 20380, 20384, 20388, 20392, 20396, 20400, 20404, 20408, 20412, 20416, 20420, 20424, 20428, 20432, 20436, 20440, 20444, 20448, 20452, 20456, 20460, 20464, 20468, 20472, 20476, 20480, 20484, 20488, 20492, 20496, 20504, 20508, 20512, 20516, 20520, 20524, 20528, 20532, 20536, 20540, 20544, 20548, 20552, 20556, 20560, 20564, 20568, 20572, 20576, 20580, 20584, 20588, 20592, 20596, 20604, 20608, 20612, 20616, 20620, 20624, 20628, 20632, 20636, 20640, 20644, 20648, 20652, 20656, 20660, 20664, 20668, 20672, 20676, 20680, 20684, 20688, 20692, 20696, 20704, 20708, 20712, 20716, 20720, 20724, 20728, 20732, 20736, 20740, 20744, 20748, 20752, 20756, 20760, 20764, 20768, 20772, 20776, 20780, 20784, 20788, 20792, 20796, 20800, 20804, 20808, 20812, 20816, 20820, 20824, 20828, 20832, 20836, 20840, 20844, 20848, 20852, 20856, 20860, 20864, 20868, 20872, 20876, 20880, 20884, 20888, 20892, 20896, 20904, 20908, 20912, 20916, 20920, 20924, 20928, 20932, 20936, 20940, 20944, 20948, 20952, 20956, 20960, 20964, 20968, 20972, 20976, 20980, 20984, 20988, 20992, 20996, 21004, 21008, 21012, 21016, 21020, 21024, 21028, 21032, 21036, 21040, 21044, 21048, 21052, 21056, 21060, 21064, 21068, 21072, 21076, 21080, 21084, 21088, 21092, 21096, 21104, 21108, 21112, 21116, 21120, 21124, 21128, 21132, 21136, 21140, 21144, 21148, 21152, 21156, 21160, 21164, 21168, 21172, 21176, 21180, 21184, 21188, 21192, 21196, 21200, 21204, 21208, 21212, 21216, 21220, 21224, 21228, 21232, 21236, 21240, 21244, 21248, 21252, 21256, 21260, 21264, 21268, 21272, 21276, 21280, 21284, 21288, 21292, 21296, 21304, 21308, 21312, 21316, 21320, 21324, 21328, 21332, 21336, 21340, 21344, 21348, 21352, 21356, 21360, 21364, 21368, 21372, 21376, 21380, 21384, 21388, 21392, 21396, 21404, 21408, 21412, 21416, 21420, 21424, 21428, 21432, 21436, 21440, 21444, 21448, 21452, 21456, 21460, 21464, 21468, 21472, 21476, 21480, 21484, 21488, 21492, 21496, 21504, 21508, 21512, 21516, 21520, 21524, 21528, 21532, 21536, 21540, 21544, 21548, 21552, 21556, 21560, 21564, 21568, 21572, 21576, 21580, 21584, 21588, 21592, 21596, 21600, 21604, 21608, 21612, 21616, 21620, 21624, 21628, 21632, 21636, 21640, 21644, 21648, 21652, 21656, 21660, 21664, 21668, 21672, 21676, 21680, 21684, 21688, 21692, 21696, 21704, 21708, 21712, 21716, 21720, 21724, 21728, 21732, 21736, 21740, 21744, 21748, 21752, 21756, 21760, 21764, 21768, 21772, 21776, 21780, 21784, 21788, 21792, 21796, 21804, 21808, 21812, 21816, 21820, 21824, 21828, 21832, 21836, 21840, 21844, 21848, 21852, 21856, 21860, 21864, 21868, 21872, 21876, 21880, 21884, 21888, 21892, 21896, 21904, 21908, 21912, 21916, 21920, 21924, 21928, 21932, 21936, 21940, 21944, 21948, 21952, 21956, 21960, 21964, 21968, 21972, 21976, 21980, 21984, 21988, 21992, 21996]\n"
     ]
    }
   ],
   "source": [
    "# Here is an example of an efficient way to get a list of leap years within a given range:\n",
    "leap_years = [year for year in range(2000, 22000) if (year % 4 == 0 and year % 100 != 0) or (year % 400 == 0)]\n",
    "\n",
    "print(leap_years)"
   ]
  },
  {
   "cell_type": "markdown",
   "metadata": {},
   "source": [
    "## 3. **Break and Continue statements in `while...` or `for... in...` loops**\n",
    "\n",
    "The reserved keywords `break` and `continue` are used to alter the behavior of `for...in` or `while...` loops. The `break` statement allows for the termination of the loop and the exit from it prematurely, even if the main condition defining the loop remains true. On the other hand, the `continue` statement is used to skip the execution of the remaining instructions in the current iteration of the loop and proceed to the next iteration when the main condition is satisfied. The following examples illustrate their use."
   ]
  },
  {
   "cell_type": "markdown",
   "metadata": {},
   "source": [
    "```python\n",
    "# Loop with the break statement\n",
    "for i in range(5):\n",
    "    if i > 2:\n",
    "        break\n",
    "print(i)\n",
    "```"
   ]
  },
  {
   "cell_type": "code",
   "execution_count": 41,
   "metadata": {},
   "outputs": [
    {
     "name": "stdout",
     "output_type": "stream",
     "text": [
      "0\n"
     ]
    }
   ],
   "source": [
    "for i in range(5):\n",
    "    if i <20:\n",
    "        break\n",
    "print(i)"
   ]
  },
  {
   "cell_type": "markdown",
   "metadata": {},
   "source": [
    "**Explanation:**\n",
    "\n",
    "- The loop iterates over a range of values from 0 to 4.\n",
    "- When `i` becomes greater than 2, the `break` statement is executed, which exits the loop immediately.\n",
    "- Therefore, the loop stops, and the value of `i` at the time the loop is exited is printed. In this case, the output will be `3`."
   ]
  },
  {
   "cell_type": "markdown",
   "metadata": {},
   "source": [
    "\n",
    "```python\n",
    "# Loop with the continue statement\n",
    "for i in range(5):\n",
    "    if i == 2:\n",
    "        continue\n",
    "    print(i)\n",
    "```"
   ]
  },
  {
   "cell_type": "code",
   "execution_count": 54,
   "metadata": {},
   "outputs": [
    {
     "name": "stdout",
     "output_type": "stream",
     "text": [
      "0\n",
      "1\n",
      "2\n",
      "4\n",
      "5\n",
      "6\n",
      "7\n",
      "8\n",
      "9\n",
      "10\n",
      "11\n",
      "12\n",
      "13\n",
      "14\n",
      "15\n",
      "16\n",
      "17\n",
      "18\n",
      "19\n",
      "20\n",
      "21\n",
      "22\n",
      "23\n",
      "24\n",
      "25\n",
      "26\n",
      "27\n",
      "28\n",
      "29\n",
      "30\n",
      "31\n",
      "32\n",
      "33\n",
      "34\n",
      "35\n",
      "36\n",
      "37\n",
      "38\n"
     ]
    }
   ],
   "source": [
    "for i in range(39):\n",
    "    if i == 3:\n",
    "        continue\n",
    "    print(i)"
   ]
  },
  {
   "cell_type": "markdown",
   "metadata": {},
   "source": [
    "**Explanation:**\n",
    "\n",
    "- The loop iterates over a range of values from 0 to 4.\n",
    "- When `i` equals 2, the `continue` statement is executed. This causes the loop to skip the rest of the code inside the loop for this iteration and proceed to the next iteration.\n",
    "- As a result, `2` is not printed. The output will be `0`, `1`, `3`, and `4`."
   ]
  },
  {
   "cell_type": "markdown",
   "metadata": {},
   "source": [
    "## Further reading\n",
    "\n",
    "0. [Programming with Python](python.aims.ac.za); [Section 13](https://python.aims.ac.za/pages/conditionals.html)\n",
    "1. [Programming with Python](python.aims.ac.za); [Section 16](https://python.aims.ac.za/pages/loop_for.html)\n",
    "2. [Programming with Python](python.aims.ac.za); [Section 27](https://python.aims.ac.za/pages/conditionals_02.html#)\n",
    "3. [Programming with Python](python.aims.ac.za); [Section 28](https://python.aims.ac.za/pages/loop_while_break_continue.html)\n"
   ]
  }
 ],
 "metadata": {
  "kernelspec": {
   "display_name": "Python 3",
   "language": "python",
   "name": "python3"
  },
  "language_info": {
   "codemirror_mode": {
    "name": "ipython",
    "version": 3
   },
   "file_extension": ".py",
   "mimetype": "text/x-python",
   "name": "python",
   "nbconvert_exporter": "python",
   "pygments_lexer": "ipython3",
   "version": "3.9.2"
  }
 },
 "nbformat": 4,
 "nbformat_minor": 2
}
