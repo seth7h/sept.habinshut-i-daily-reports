{
 "cells": [
  {
   "cell_type": "markdown",
   "metadata": {
    "id": "53N3iK03l1e2"
   },
   "source": []
  },
  {
   "cell_type": "markdown",
   "metadata": {},
   "source": [
    "# PyPro: Challenge 2\n",
    "\n",
    "### This challenge is due on Saturday, October 5th, 2024, at 8pm.\n",
    "\n",
    "`These exercises offer a diverse array of tasks that assess your comprehension of fundamental Python concepts such as loops, data types, string manipulations, list comprehensions, and higher-order functions.`\n",
    "\n",
    "| Levels | Level Description | Estimated Completion Time per Exercise |\n",
    "| :----- | :---------------: | -------------------------------------: |\n",
    "| L1     | Beginner. The solutions can typically be found in standard textbooks. | 5 - 10 minutes |\n",
    "| L2     | Intermediate. Requires problem-solving skills. Solutions are not directly found in textbooks. | 10 - 20 minutes |\n",
    "| L3     | Advanced. You should be capable of using Python to solve more intricate problems involving libraries, data structures, and algorithms. | 20 - 30 minutes |\n",
    "\n",
    "---\n",
    "\n"
   ]
  },
  {
   "cell_type": "markdown",
   "metadata": {},
   "source": [
    "\n",
    "#### Question 1  \n",
    "**Level 1**\n",
    "\n",
    "**Task:**  \n",
    "Develop a program to find all numbers between 2000 and 3200 (inclusive) that are divisible by 7 but not multiples of 5. Display these numbers as a single line of output, separated by commas.\n",
    "\n",
    "---"
   ]
  },
  {
   "cell_type": "code",
   "execution_count": 24,
   "metadata": {},
   "outputs": [
    {
     "name": "stdout",
     "output_type": "stream",
     "text": [
      "2002\n",
      "2009\n",
      "2016\n",
      "2023\n",
      "2037\n",
      "2044\n",
      "2051\n",
      "2058\n",
      "2072\n",
      "2079\n",
      "2086\n",
      "2093\n",
      "2107\n",
      "2114\n",
      "2121\n",
      "2128\n",
      "2142\n",
      "2149\n",
      "2156\n",
      "2163\n",
      "2177\n",
      "2184\n",
      "2191\n",
      "2198\n",
      "2212\n",
      "2219\n",
      "2226\n",
      "2233\n",
      "2247\n",
      "2254\n",
      "2261\n",
      "2268\n",
      "2282\n",
      "2289\n",
      "2296\n",
      "2303\n",
      "2317\n",
      "2324\n",
      "2331\n",
      "2338\n",
      "2352\n",
      "2359\n",
      "2366\n",
      "2373\n",
      "2387\n",
      "2394\n",
      "2401\n",
      "2408\n",
      "2422\n",
      "2429\n",
      "2436\n",
      "2443\n",
      "2457\n",
      "2464\n",
      "2471\n",
      "2478\n",
      "2492\n",
      "2499\n",
      "2506\n",
      "2513\n",
      "2527\n",
      "2534\n",
      "2541\n",
      "2548\n",
      "2562\n",
      "2569\n",
      "2576\n",
      "2583\n",
      "2597\n",
      "2604\n",
      "2611\n",
      "2618\n",
      "2632\n",
      "2639\n",
      "2646\n",
      "2653\n",
      "2667\n",
      "2674\n",
      "2681\n",
      "2688\n",
      "2702\n",
      "2709\n",
      "2716\n",
      "2723\n",
      "2737\n",
      "2744\n",
      "2751\n",
      "2758\n",
      "2772\n",
      "2779\n",
      "2786\n",
      "2793\n",
      "2807\n",
      "2814\n",
      "2821\n",
      "2828\n",
      "2842\n",
      "2849\n",
      "2856\n",
      "2863\n",
      "2877\n",
      "2884\n",
      "2891\n",
      "2898\n",
      "2912\n",
      "2919\n",
      "2926\n",
      "2933\n",
      "2947\n",
      "2954\n",
      "2961\n",
      "2968\n",
      "2982\n",
      "2989\n",
      "2996\n",
      "3003\n",
      "3017\n",
      "3024\n",
      "3031\n",
      "3038\n",
      "3052\n",
      "3059\n",
      "3066\n",
      "3073\n",
      "3087\n",
      "3094\n",
      "3101\n",
      "3108\n",
      "3122\n",
      "3129\n",
      "3136\n",
      "3143\n",
      "3157\n",
      "3164\n",
      "3171\n",
      "3178\n",
      "3192\n",
      "3199\n"
     ]
    }
   ],
   "source": [
    "w=range(2000,3201)\n",
    "for i in w:\n",
    "    if i%7==0 and i%5!=0:\n",
    "        print(i)\n",
    "        i=i+1\n",
    "\n",
    "        "
   ]
  },
  {
   "cell_type": "markdown",
   "metadata": {},
   "source": [
    "\n",
    "#### Question 2  \n",
    "**Level 1**\n",
    "\n",
    "**Task:**  \n",
    "Create a function that computes the factorial of a specified integer. Display the result in a single line of output. For example, if the input is:  \n",
    "`8`  \n",
    "Then, the output should be:  \n",
    "`40320`\n",
    "\n",
    "---"
   ]
  },
  {
   "cell_type": "code",
   "execution_count": 33,
   "metadata": {},
   "outputs": [
    {
     "name": "stdin",
     "output_type": "stream",
     "text": [
      "nbr 8\n"
     ]
    },
    {
     "name": "stdout",
     "output_type": "stream",
     "text": [
      "40320\n"
     ]
    }
   ],
   "source": [
    "import math\n",
    "def factoriall():\n",
    "    a=int(input(\"nbr\"))\n",
    "    w=math.factorial(a)\n",
    "    print(w)  \n",
    "factoriall()    "
   ]
  },
  {
   "cell_type": "markdown",
   "metadata": {},
   "source": [
    "#### Question 3  \n",
    "**Level 1**\n",
    "\n",
    "**Task:**  \n",
    "Given an integer `n`, generate a dictionary with entries (i, i*i) for all integers from 1 to `n` (inclusive). Print the resulting dictionary. For example, if the input is:  \n",
    "`8`  \n",
    "Then, the output should be:  \n",
    "`{1: 1, 2: 4, 3: 9, 4: 16, 5: 25, 6: 36, 7: 49, 8: 64}`\n",
    "\n",
    "---"
   ]
  },
  {
   "cell_type": "code",
   "execution_count": 42,
   "metadata": {},
   "outputs": [
    {
     "name": "stdin",
     "output_type": "stream",
     "text": [
      "enter n 10\n"
     ]
    },
    {
     "name": "stdout",
     "output_type": "stream",
     "text": [
      "{'i': 0, 0: 0, 1: 1, 2: 4, 3: 9, 4: 16, 5: 25, 6: 36, 7: 49, 8: 64, 9: 81}\n"
     ]
    }
   ],
   "source": [
    "n=int(input(\"enter n\"))\n",
    "for i in range(n):\n",
    "    q[i]=i**2\n",
    "print(q)"
   ]
  },
  {
   "cell_type": "code",
   "execution_count": null,
   "metadata": {},
   "outputs": [],
   "source": [
    "n = int(input(\"Enter n: \"))\n",
    "squares_dict = {}\n",
    "\n",
    "for i in range(1, n + 1):\n",
    "    squares_dict[i] = i * i\n",
    "\n",
    "print(squares_dict)\n"
   ]
  },
  {
   "cell_type": "markdown",
   "metadata": {},
   "source": [
    "\n",
    "#### Question 4  \n",
    "**Level 1**\n",
    "\n",
    "**Task:**  \n",
    "Create a program that reads a series of comma-separated numbers from the console, then generates and prints both a list and a tuple containing those numbers. For example, if the input is:  \n",
    "`34,67,55,33,12,98`  \n",
    "The output should be:  \n",
    "`['34', '67', '55', '33', '12', '98']`  \n",
    "`('34', '67', '55', '33', '12', '98')`\n",
    "\n",
    "---\n"
   ]
  },
  {
   "cell_type": "code",
   "execution_count": 44,
   "metadata": {},
   "outputs": [
    {
     "name": "stdin",
     "output_type": "stream",
     "text": [
      "enter 3 numbers to make list and turple number 1: 1\n",
      "enter 3 numbers to make list and turple number 2: 2\n",
      "enter 3 numbers to make list and turple number 3: 3\n"
     ]
    },
    {
     "name": "stdout",
     "output_type": "stream",
     "text": [
      "['1', '2', '3']\n",
      "('1', '2', '3')\n"
     ]
    }
   ],
   "source": [
    "e1=input(\"enter 3 numbers to make list and turple number 1:\")\n",
    "e2=input(\"enter 3 numbers to make list and turple number 2:\")\n",
    "e3=input(\"enter 3 numbers to make list and turple number 3:\")\n",
    "list=[e1,e2,e3]\n",
    "print(list)\n",
    "print(tuple(list))"
   ]
  },
  {
   "cell_type": "markdown",
   "metadata": {},
   "source": [
    "\n",
    "#### Question 5  \n",
    "**Level 1**\n",
    "\n",
    "**Task:**  \n",
    "Create a class that has two methods:  \n",
    "- `getString`: To accept a string input from the console.  \n",
    "- `printString`: To display the string in uppercase.  \n",
    "Include a simple test function to demonstrate the class methods.\n",
    "\n",
    "---\n"
   ]
  },
  {
   "cell_type": "code",
   "execution_count": 47,
   "metadata": {},
   "outputs": [
    {
     "name": "stdin",
     "output_type": "stream",
     "text": [
      "enter string: Mr yae\n"
     ]
    },
    {
     "name": "stdout",
     "output_type": "stream",
     "text": [
      "MR YAE\n"
     ]
    }
   ],
   "source": [
    "def classw():\n",
    "    s=input(\"enter string:\")\n",
    "    print(s.upper())\n",
    "\n",
    "classw()\n",
    "    "
   ]
  },
  {
   "cell_type": "markdown",
   "metadata": {},
   "source": [
    "\n",
    "#### Question 6  \n",
    "**Level 2**\n",
    "\n",
    "**Task:**  \n",
    "Write a program that calculates and prints values based on the formula:  \n",
    "\\[ Q = \\sqrt{\\frac{2 \\times C \\times D}{H}} \\]  \n",
    "Here, C and H are fixed constants with values 50 and 30, respectively. `D` is a variable whose values are input to the program as a comma-separated sequence. For example, if the input is:  \n",
    "`100,150,180`  \n",
    "Then, the output should be:  \n",
    "`18,22,24`\n",
    "\n",
    "---\n"
   ]
  },
  {
   "cell_type": "code",
   "execution_count": 54,
   "metadata": {},
   "outputs": [
    {
     "name": "stdin",
     "output_type": "stream",
     "text": [
      "d1: 100\n",
      "d2: 150\n",
      "d3: 180\n"
     ]
    },
    {
     "name": "stdout",
     "output_type": "stream",
     "text": [
      "18 22 24\n"
     ]
    }
   ],
   "source": [
    "D1=int(input(\"d1:\"))\n",
    "D2=int(input(\"d2:\"))\n",
    "D3=int(input(\"d3:\"))\n",
    "H=30\n",
    "C=50\n",
    "Q1=math.sqrt(2*C*D1/H)\n",
    "Q2=math.sqrt(2*C*D2/H)\n",
    "Q3=math.sqrt(2*C*D3/H)\n",
    "print(int(Q1),int(Q2),int(Q3))"
   ]
  },
  {
   "cell_type": "markdown",
   "metadata": {},
   "source": [
    "\n",
    "\n",
    "#### Question 7  \n",
    "**Level 2**\n",
    "\n",
    "**Task:**  \n",
    "Write a program that accepts two numbers, X and Y, as input and generates a 2-dimensional list. The value at the i-th row and j-th column should be the product of `i` and `j`. For example, if the input is:  \n",
    "`3,5`  \n",
    "The output should be:  \n",
    "`[[0, 0, 0, 0, 0], [0, 1, 2, 3, 4], [0, 2, 4, 6, 8]]`\n",
    "\n",
    "---\n"
   ]
  },
  {
   "cell_type": "markdown",
   "metadata": {},
   "source": [
    "\n",
    "#### Question 8  \n",
    "**Level 2**\n",
    "\n",
    "**Task:**  \n",
    "Write a program that accepts a comma-separated list of words, sorts them alphabetically, and then prints them in a single line, separated by commas. For example, if the input is:  \n",
    "`without,hello,bag,world`  \n",
    "The output should be:  \n",
    "`bag,hello,without,world`\n",
    "\n",
    "---\n"
   ]
  },
  {
   "cell_type": "code",
   "execution_count": 64,
   "metadata": {},
   "outputs": [
    {
     "name": "stdin",
     "output_type": "stream",
     "text": [
      "Enter two strings separated by a comma:  zeni,abi\n"
     ]
    },
    {
     "name": "stdout",
     "output_type": "stream",
     "text": [
      "['abi', 'zeni']\n"
     ]
    }
   ],
   "source": [
    "Q1, Q2 = input(\"Enter two strings separated by a comma: \").split(',')\n",
    "\n",
    "Q=[Q1,Q2]\n",
    "Q.sort()\n",
    "print(Q)\n"
   ]
  },
  {
   "cell_type": "markdown",
   "metadata": {},
   "source": [
    "\n",
    "#### Question 9  \n",
    "**Level 2**\n",
    "\n",
    "**Task:**  \n",
    "Create a program that reads multiple lines of input and outputs each line with all characters converted to uppercase. For example, if the input is:  \n",
    "`Hello world`  \n",
    "`Practice makes perfect`  \n",
    "The output should be:  \n",
    "`HELLO WORLD`  \n",
    "`PRACTICE MAKES PERFECT`\n",
    "\n",
    "---\n"
   ]
  },
  {
   "cell_type": "code",
   "execution_count": 65,
   "metadata": {},
   "outputs": [
    {
     "name": "stdin",
     "output_type": "stream",
     "text": [
      "enter 1st string: rwanda is country\n",
      "enter 2nd string: kigali is captal city\n"
     ]
    },
    {
     "name": "stdout",
     "output_type": "stream",
     "text": [
      "RWANDA IS COUNTRY\n",
      "KIGALI IS CAPTAL CITY\n"
     ]
    }
   ],
   "source": [
    "n1=input(\"enter 1st string:\")\n",
    "n2=input(\"enter 2nd string:\")\n",
    "q=n1.upper()\n",
    "q1=n2.upper()\n",
    "print(q)\n",
    "print(q1)"
   ]
  },
  {
   "cell_type": "markdown",
   "metadata": {},
   "source": [
    "\n",
    "#### Question 10  \n",
    "**Level 2**\n",
    "\n",
    "**Task:**  \n",
    "Write a program that reads a sequence of whitespace-separated words, removes all duplicate words, sorts them alphanumerically, and then prints the resulting words. For example, if the input is:  \n",
    "`hello world and practice makes perfect and hello world again`  \n",
    "The output should be:  \n",
    "`again and hello makes perfect practice world`\n",
    "\n",
    "---\n"
   ]
  },
  {
   "cell_type": "code",
   "execution_count": 82,
   "metadata": {},
   "outputs": [
    {
     "name": "stdin",
     "output_type": "stream",
     "text": [
      "sent: hello world and practice makes perfect and hello world again\n"
     ]
    },
    {
     "name": "stdout",
     "output_type": "stream",
     "text": [
      "again and hello makes perfect practice world\n"
     ]
    }
   ],
   "source": [
    "sent=input(\"sent:\").split()\n",
    "w=set(sent)\n",
    "q=sorted(w)\n",
    "print(' '.join(q))\n"
   ]
  },
  {
   "cell_type": "markdown",
   "metadata": {},
   "source": [
    "#### Question 11  \n",
    "**Level 2**\n",
    "\n",
    "**Task:**  \n",
    "Create a program that takes a sequence of 4-digit binary numbers, checks which ones are divisible by 5, and prints them as a comma-separated sequence. For example, if the input is:  \n",
    "`0100,0011,1010,1001`  \n",
    "The output should be:  \n",
    "`1010`  \n",
    "Note: Assume the input is provided through the console.\n",
    "\n",
    "---"
   ]
  },
  {
   "cell_type": "code",
   "execution_count": 90,
   "metadata": {},
   "outputs": [
    {
     "name": "stdin",
     "output_type": "stream",
     "text": [
      "Enter 5 numbers separated by a comma:  0100,0011,1010,1002,0006\n"
     ]
    },
    {
     "name": "stdout",
     "output_type": "stream",
     "text": [
      "divisible by 5 is : 100\n"
     ]
    }
   ],
   "source": [
    "\n",
    "Q1, Q2, Q3, Q4, Q5 = input(\"Enter 5 numbers separated by a comma: \").split(',')\n",
    "\n",
    "T = [int(Q1), int(Q2), int(Q3), int(Q4), int(Q5)]\n",
    "\n",
    "for i in T:\n",
    "    if i % 5 == 0:  \n",
    "        print(\"divisible by 5 is :\",i)\n",
    "        break  \n",
    "\n"
   ]
  },
  {
   "cell_type": "markdown",
   "metadata": {},
   "source": [
    "\n",
    "\n",
    "---\n",
    "\n",
    "#### Question 12  \n",
    "**Level 2**\n",
    "\n",
    "**Task:**  \n",
    "Develop a program that finds all numbers between 1000 and 3000 (inclusive) where each digit is an even number. Print the results as a comma-separated sequence in a single line.\n",
    "\n",
    "---\n",
    "\n",
    "#### Question 13  \n",
    "**Level 2**\n",
    "\n",
    "**Task:**  \n",
    "Write a program that counts the number of letters and digits in a given sentence. For example, if the input is:  \n",
    "`hello world! 123`  \n",
    "The output should be:  \n",
    "`LETTERS 10`  \n",
    "`DIGITS 3`\n",
    "\n",
    "---\n",
    "\n",
    "#### Question 14  \n",
    "**Level 2**\n",
    "\n",
    "**Task:**  \n",
    "Create a program that counts and prints the number of uppercase and lowercase letters in a given sentence. For example, if the input is:  \n",
    "`Hello world!`  \n",
    "The output should be:  \n",
    "`UPPER CASE 1`  \n",
    "`LOWER CASE 9`\n",
    "\n",
    "---\n",
    "\n",
    "#### Question 15  \n",
    "**Level 2**\n",
    "\n",
    "**Task:**  \n",
    "Write a program that calculates the value of `a + aa + aaa + aaaa` given a digit as the value of `a`. For example, if the input is:  \n",
    "`9`  \n",
    "The output should be:  \n",
    "`11106`\n",
    "\n",
    "---\n",
    "\n",
    "#### Question 16  \n",
    "**Level 2**\n",
    "\n",
    "**Task:**  \n",
    "Use a list comprehension to generate a list of squares for each odd number in a given sequence of comma-separated values. For example, if the input is:  \n",
    "`1,2,3,4,5,6,7,8,9`  \n",
    "The output should be:  \n",
    "`1,3,5,7,9`\n",
    "\n",
    "---\n",
    "\n",
    "#### Question 17  \n",
    "**Level 2**\n",
    "\n",
    "**Task:**  \n",
    "Create a program that calculates the net amount in a bank account based on a transaction log input. The log format is:  \n",
    "`D 100` (Deposit 100)  \n",
    "`W 200` (Withdraw 200)  \n",
    "Suppose the following input is provided:  \n",
    "`D 300`  \n",
    "`D 300`  \n",
    "`W 200`  \n",
    "`D 100`  \n",
    "The output should be:  \n",
    "`500`\n",
    "\n",
    "---\n",
    "\n",
    "#### Question 18  \n",
    "**Level 3**\n",
    "\n",
    "**Task:**  \n",
    "Write a program that checks the validity of passwords based on the following criteria:  \n",
    "1. At least one lowercase letter [a-z]  \n",
    "2. At least one digit [0-9]  \n",
    "3. At least one uppercase letter [A-Z]  \n",
    "4. At least one character from [$#@]  \n",
    "5. Minimum length of 6 characters  \n",
    "6. Maximum length of 12 characters  \n",
    "Input is provided as a sequence of comma-separated passwords. Valid passwords should be printed, separated by commas. For example, if the input is:  \n",
    "`ABd1234@1,a F1#,2w3E*,2We3345`  \n",
    "The output should be:  \n",
    "`ABd1234@1`\n",
    "\n",
    "---\n",
    "\n",
    "#### Question 19  \n",
    "**Level 3**\n",
    "\n",
    "**Task:**  \n",
    "Create a program that sorts a list of (name, age, height) tuples based on the following priority:  \n",
    "1. Name (alphabetically)  \n",
    "2. Age (numerically)  \n",
    "3. Height (numerically)  \n",
    "For example, if the input is:  \n",
    "`Tom,19,80`  \n",
    "`John,20,90`  \n",
    "`Jony,17,91`  \n",
    "`Jony,17,93`  \n",
    "`Json,21,85`  \n",
    "The output should be:  \n",
    "`[('John', '20', '90'), ('Jony', '17', '91'), ('Jony', '17', '93'), ('Json', '21', '85'), ('Tom', '19', '80')]`\n",
    "\n",
    "---\n",
    "\n",
    "#### Question 20  \n",
    "**Level 3**\n",
    "\n",
    "**Task:**  \n",
    "Define a class that includes a generator to yield numbers divisible by 7 within a given range from 0 to n.\n",
    "\n",
    "---\n",
    "\n",
    "#### Question 21  \n",
    "**Level 3**\n",
    "\n",
    "**Task:**  \n",
    "A robot moves on a grid starting from the origin\n",
    "\n",
    " point (0,0). It can move UP, DOWN, LEFT, or RIGHT by a specified number of steps. Write a program to calculate the distance from the current position to the origin after a series of movements. If the distance is a float, print the nearest integer. For example, if the input is:  \n",
    "`UP 5`  \n",
    "`DOWN 3`  \n",
    "`LEFT 3`  \n",
    "`RIGHT 2`  \n",
    "The output should be:  \n",
    "`2`\n",
    "\n",
    "---\n",
    "\n",
    "#### Question 22  \n",
    "**Level 3**\n",
    "\n",
    "**Task:**  \n",
    "Create a program to calculate the frequency of words from the input. Display the output with the keys sorted alphabetically. For example, if the input is:  \n",
    "`New to Python or choosing between Python 2 and Python 3? Read Python 2 or Python 3.`  \n",
    "The output should be:  \n",
    "`2:2`  \n",
    "`3.:1`  \n",
    "`3?:1`  \n",
    "`New:1`  \n",
    "`Python:5`  \n",
    "`Read:1`  \n",
    "`and:1`  \n",
    "`between:1`  \n",
    "`choosing:1`  \n",
    "`or:2`  \n",
    "`to:1`\n",
    "\n",
    "---\n",
    "\n",
    "#### Question 23  \n",
    "**Level 1**\n",
    "\n",
    "**Task:**  \n",
    "Create a function that calculates and returns the square of a given number.\n",
    "\n",
    "---\n",
    "\n",
    "#### Question 24  \n",
    "**Level 1**\n",
    "\n",
    "**Task:**  \n",
    "Python provides built-in documentation for each built-in function. Create a program that displays the documentation for `abs()`, `int()`, and `raw_input()`. Also, add documentation for a user-defined function.\n",
    "\n",
    "---\n",
    "\n",
    "#### Question 25  \n",
    "**Level 1**\n",
    "\n",
    "**Task:**  \n",
    "Define a class with both a class attribute and an instance attribute of the same name. Show the difference between the two by printing the class attribute and the instance attribute separately.\n",
    "\n",
    "---\n",
    "\n"
   ]
  },
  {
   "cell_type": "code",
   "execution_count": null,
   "metadata": {},
   "outputs": [],
   "source": []
  }
 ],
 "metadata": {
  "colab": {
   "provenance": []
  },
  "kernelspec": {
   "display_name": "Python 3 (ipykernel)",
   "language": "python",
   "name": "python3"
  },
  "language_info": {
   "codemirror_mode": {
    "name": "ipython",
    "version": 3
   },
   "file_extension": ".py",
   "mimetype": "text/x-python",
   "name": "python",
   "nbconvert_exporter": "python",
   "pygments_lexer": "ipython3",
   "version": "3.11.7"
  }
 },
 "nbformat": 4,
 "nbformat_minor": 4
}
